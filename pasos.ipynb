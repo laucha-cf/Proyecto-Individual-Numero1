{
 "cells": [
  {
   "cell_type": "markdown",
   "metadata": {},
   "source": []
  },
  {
   "cell_type": "markdown",
   "metadata": {},
   "source": [
    "#### Importamos librerías y datasets"
   ]
  },
  {
   "cell_type": "code",
   "execution_count": 43,
   "metadata": {},
   "outputs": [],
   "source": [
    "import numpy as np\n",
    "import pandas as pd\n",
    "import matplotlib.pyplot as plt\n",
    "import seaborn as sns\n",
    "import Levenshtein as lev\n",
    "sns.set()\n",
    "\n",
    "#Levantamos los datasets en crudo (archivos .csv)\n",
    "df_clientes     =pd.read_csv('./Modules/Datasets/Clientes.csv'   , encoding='latin-1', sep=';')\n",
    "df_compras      =pd.read_csv('./Modules/Datasets/Compra.csv'     , encoding='latin-1', sep=',')\n",
    "df_gastos       =pd.read_csv('./Modules/Datasets/Gasto.csv'      , encoding='latin-1', sep=',')\n",
    "df_localidades  =pd.read_csv('./Modules/Datasets/Localidades.csv', encoding='latin-1', sep=',')\n",
    "df_proveedores  =pd.read_csv('./Modules/Datasets/Proveedores.csv', encoding='latin-1', sep=',')\n",
    "df_sucursales   =pd.read_csv('./Modules/Datasets/Sucursales.csv' , encoding='latin-1', sep=';')\n",
    "df_ventas       =pd.read_csv('./Modules/Datasets/Venta.csv'      , encoding='latin-1', sep=',')\n",
    "df_canalventa   =pd.read_excel('./Modules/Datasets/CanalDeVenta.xlsx')\n",
    "df_tipogasto    =pd.read_csv('./Modules/Datasets/TiposDeGasto.csv', encoding='latin-1', sep=',')\n",
    "\n",
    "#Datasets de provincias y localidades normalizadas para utilizar luego\n",
    "df_provincias = pd.read_csv('./Modules/Datasets/provincias.csv', sep=',', encoding='utf-8')\n",
    "df_loc_normales = pd.read_csv('./Modules/Datasets/localidades_normalizadas.csv', sep=',', encoding='utf-8')\n",
    "\n",
    "provincias_normalizadas = list(df_provincias['nombre_completo'].unique())\n",
    "localidades_normalizadas = list(df_loc_normales['localidad_censal_nombre'].unique())"
   ]
  },
  {
   "cell_type": "markdown",
   "metadata": {},
   "source": [
    "#### Renombrando columnas"
   ]
  },
  {
   "cell_type": "code",
   "execution_count": 44,
   "metadata": {},
   "outputs": [],
   "source": [
    "#Clientes\n",
    "cols_nuevas = ['idCliente','provincia', 'nom_y_ape', 'domicilio', 'tel', 'edad', 'localidad', 'lat', 'long', 'col10']\n",
    "df_clientes.columns = cols_nuevas\n",
    "\n",
    "#Compras\n",
    "cols_nuevas = ['idCompra','fecha', 'año', 'mes', 'periodo', 'idProducto','cantidad', 'precio', 'idProveedor']\n",
    "df_compras.columns = cols_nuevas\n",
    "\n",
    "#Gastos\n",
    "cols_nuevas = ['idGasto', 'idSucursal', 'idTipoGasto', 'fecha', 'monto']\n",
    "df_gastos.columns = cols_nuevas\n",
    "\n",
    "#Localidades\n",
    "cols_nuevas = ['categoria','lat','long','idDepartamento','nombreDepartamento','fuente','idLocalidad','idLocalidadCensal','nombreLocalidadCensal','idMunicipio','nombreMunicipio','nombreLocalidad','idProvincia','nombreProvincia']\n",
    "df_localidades.columns = cols_nuevas\n",
    "\n",
    "#Proveedores\n",
    "cols_nuevas = ['idProveedor','nombre', 'direccion', 'ciudad', 'estado', 'pais', 'departamento']\n",
    "df_proveedores.columns = cols_nuevas\n",
    "\n",
    "#Sucursales\n",
    "cols_nuevas = ['idSucursal','sucursal', 'direccion', 'localidad', 'provincia', 'lat', 'long']\n",
    "df_sucursales.columns = cols_nuevas\n",
    "\n",
    "#Ventas\n",
    "cols_nuevas = ['idVenta','fechaVenta','fechaEntrega','idCanal','idCliente','idSucursal','idEmpleado','idProducto','precio','cantidad']\n",
    "df_ventas.columns = cols_nuevas\n",
    "\n",
    "#Tipo de Gasto\n",
    "cols_nuevas = ['idTipoGasto', 'descripcion', 'montoAprox']\n",
    "df_tipogasto.columns = cols_nuevas\n",
    "\n",
    "#Canal de Venta\n",
    "cols_nuevas = ['codigo', 'descripcion']\n",
    "df_canalventa.columns = cols_nuevas"
   ]
  },
  {
   "cell_type": "markdown",
   "metadata": {},
   "source": [
    "## Clientes"
   ]
  },
  {
   "cell_type": "markdown",
   "metadata": {},
   "source": [
    "Eliminamos la columna 'col10' ya que no aporta nada al dataset."
   ]
  },
  {
   "cell_type": "code",
   "execution_count": 35,
   "metadata": {},
   "outputs": [],
   "source": [
    "df_clientes.drop(columns='col10', inplace=True)"
   ]
  },
  {
   "cell_type": "markdown",
   "metadata": {},
   "source": [
    "Capitalizamos la columna 'nom_y_ape', 'provincia', 'localidad' y 'domicilio'."
   ]
  },
  {
   "cell_type": "code",
   "execution_count": 36,
   "metadata": {},
   "outputs": [],
   "source": [
    "columnas = ['provincia', 'nom_y_ape', 'localidad', 'domicilio']\n",
    "for col in columnas:\n",
    "    df_clientes[col] = df_clientes[col].str.title()"
   ]
  },
  {
   "cell_type": "markdown",
   "metadata": {},
   "source": [
    "Llenamos los nulos con el promedio para poder realizar la conversion.<br>\n",
    "Convertimos a entero el campo 'edad'."
   ]
  },
  {
   "cell_type": "code",
   "execution_count": 37,
   "metadata": {},
   "outputs": [],
   "source": [
    "df_clientes['edad'].fillna(int(df_clientes['edad'].mean()), inplace=True)"
   ]
  },
  {
   "cell_type": "code",
   "execution_count": 38,
   "metadata": {},
   "outputs": [],
   "source": [
    "df_clientes['edad'] = df_clientes['edad'].astype('int')"
   ]
  },
  {
   "cell_type": "markdown",
   "metadata": {},
   "source": [
    "Latitud y Longitud"
   ]
  },
  {
   "cell_type": "code",
   "execution_count": 39,
   "metadata": {},
   "outputs": [],
   "source": [
    "df_clientes['lat'] = df_clientes['lat'].str.replace(',', '')\n",
    "df_clientes['long'] = df_clientes['long'].str.replace(',', '')"
   ]
  },
  {
   "cell_type": "code",
   "execution_count": 40,
   "metadata": {},
   "outputs": [],
   "source": [
    "df_clientes['lat'] = pd.to_numeric(df_clientes['lat'], errors='coerce', downcast='float')"
   ]
  },
  {
   "cell_type": "markdown",
   "metadata": {},
   "source": [
    "Normalizamos las provincias"
   ]
  },
  {
   "cell_type": "code",
   "execution_count": 43,
   "metadata": {},
   "outputs": [],
   "source": [
    "m = df_clientes['provincia'].notna()\n",
    "provincias_unicas = list(df_clientes.loc[m, 'provincia'].unique())"
   ]
  },
  {
   "cell_type": "code",
   "execution_count": 45,
   "metadata": {},
   "outputs": [],
   "source": [
    "for prov_normal in provincias_normalizadas:\n",
    "    for prov_dataset in provincias_unicas:\n",
    "        porc_parecido = lev.ratio(prov_normal.lower(), prov_dataset.lower())\n",
    "        if porc_parecido >= 0.40:\n",
    "            df_clientes.loc[(df_clientes['provincia']==prov_dataset), 'provincia'] = prov_normal"
   ]
  },
  {
   "cell_type": "code",
   "execution_count": 239,
   "metadata": {},
   "outputs": [],
   "source": [
    "df_clientes = df_clientes.dropna(thresh=7)"
   ]
  },
  {
   "cell_type": "markdown",
   "metadata": {},
   "source": [
    "## Compras"
   ]
  },
  {
   "cell_type": "code",
   "execution_count": 7,
   "metadata": {},
   "outputs": [],
   "source": [
    "df_compras['precio'].fillna(df_compras['precio'].mean(), inplace=True)\n",
    "df_compras['precio'] = df_compras['precio'].astype('float')\n",
    "cols = ['idCompra', 'año', 'mes', 'periodo', 'idProducto', 'cantidad', 'idProveedor']\n",
    "for col in cols:\n",
    "    m = ((df_compras[col].isna()) | (df_compras[col]==''))\n",
    "    df_compras.loc[ (m==False), col] = df_compras[col].astype('int')"
   ]
  },
  {
   "cell_type": "markdown",
   "metadata": {},
   "source": [
    "## Ventas"
   ]
  },
  {
   "cell_type": "code",
   "execution_count": 17,
   "metadata": {},
   "outputs": [],
   "source": [
    "df_ventas['precio'].fillna(df_ventas['precio'].mean(), inplace=True)\n",
    "df_ventas['cantidad'].fillna(int(df_ventas['cantidad'].mean()), inplace=True)"
   ]
  },
  {
   "cell_type": "markdown",
   "metadata": {},
   "source": [
    "## Outliers"
   ]
  },
  {
   "cell_type": "code",
   "execution_count": 49,
   "metadata": {},
   "outputs": [],
   "source": [
    "#Deteccion outliers\n",
    "dataset_names = [df_compras, df_ventas]\n",
    "dicc = {True:1, False:0}\n",
    "for df in dataset_names:\n",
    "    promedio = df['precio'].mean()\n",
    "    std_dev = df['precio'].std()\n",
    "    minimo = 0\n",
    "    maximo = promedio + 3 * std_dev\n",
    "    mascara_outlier = ((df['precio']<minimo) | (df['precio']>maximo))\n",
    "    df['Outlier'] = mascara_outlier.map(dicc)\n",
    "    \n",
    "    promedio = df['cantidad'].mean()\n",
    "    std_dev = df['cantidad'].std()\n",
    "    minimo = 0\n",
    "    maximo = promedio + 3 * std_dev\n",
    "    mascara_outlier = ((df['cantidad']<minimo) | (df['cantidad']>maximo))\n",
    "    df.loc[mascara_outlier, 'Outlier'] = 2"
   ]
  },
  {
   "cell_type": "code",
   "execution_count": 52,
   "metadata": {},
   "outputs": [],
   "source": [
    "#Reemplazamos outliers de precio por la media\n",
    "m = (df_ventas['Outlier'] == 1)\n",
    "df_ventas.loc[m, 'precio'] = df_ventas['precio'].mean()\n",
    "df_ventas.loc[m, 'Outlier'] = 0"
   ]
  },
  {
   "cell_type": "code",
   "execution_count": 54,
   "metadata": {},
   "outputs": [],
   "source": [
    "#Reemplazamos Outliers de cantidad por la division de este campo por 10 (considerando que hay un 0 de más)\n",
    "m = (df_ventas['Outlier'] == 2)\n",
    "df_ventas.loc[m, 'cantidad'] = df_ventas['cantidad']/10\n",
    "df_ventas.loc[m, 'Outlier'] = 0"
   ]
  },
  {
   "cell_type": "markdown",
   "metadata": {},
   "source": [
    "## Localidades"
   ]
  },
  {
   "cell_type": "code",
   "execution_count": 26,
   "metadata": {},
   "outputs": [
    {
     "name": "stderr",
     "output_type": "stream",
     "text": [
      "C:\\Users\\Laucha\\AppData\\Local\\Temp\\ipykernel_23368\\1636981245.py:4: FutureWarning: The default value of regex will change from True to False in a future version. In addition, single character regular expressions will *not* be treated as literal strings when regex=True.\n",
      "  df_localidades['lat'] = df_localidades['lat'].str.replace('.', '')\n",
      "C:\\Users\\Laucha\\AppData\\Local\\Temp\\ipykernel_23368\\1636981245.py:5: FutureWarning: The default value of regex will change from True to False in a future version. In addition, single character regular expressions will *not* be treated as literal strings when regex=True.\n",
      "  df_localidades['long'] = df_localidades['long'].str.replace('.', '')\n"
     ]
    }
   ],
   "source": [
    "df_localidades['lat'] = df_localidades['lat'].astype(str)\n",
    "df_localidades['long'] = df_localidades['long'].astype(str)\n",
    "\n",
    "df_localidades['lat'] = df_localidades['lat'].str.replace('.', '')\n",
    "df_localidades['long'] = df_localidades['long'].str.replace('.', '')\n",
    "\n",
    "df_localidades['lat'] = pd.to_numeric(df_localidades['lat'], errors='coerce', downcast='float')\n",
    "df_localidades['long'] = pd.to_numeric(df_localidades['long'], errors='coerce', downcast='float')"
   ]
  },
  {
   "cell_type": "code",
   "execution_count": 27,
   "metadata": {},
   "outputs": [],
   "source": [
    "provincias_unicas = list(df_localidades['nombreProvincia'].unique())"
   ]
  },
  {
   "cell_type": "code",
   "execution_count": 28,
   "metadata": {},
   "outputs": [],
   "source": [
    "for prov_normal in provincias_normalizadas:\n",
    "    for prov_dataset in provincias_unicas:\n",
    "        porc_parecido = lev.ratio(prov_normal.lower(), prov_dataset.lower())\n",
    "        if porc_parecido >= 0.40:\n",
    "            df_localidades.loc[(df_localidades['nombreProvincia']==prov_dataset), 'nombreProvincia'] = prov_normal"
   ]
  },
  {
   "cell_type": "code",
   "execution_count": null,
   "metadata": {},
   "outputs": [],
   "source": [
    "df_localidades['nombreLocalidad'] = df_localidades['nombreLocalidad'].str.title()"
   ]
  },
  {
   "cell_type": "markdown",
   "metadata": {},
   "source": [
    "## Proveedores"
   ]
  },
  {
   "cell_type": "code",
   "execution_count": 339,
   "metadata": {},
   "outputs": [],
   "source": [
    "df_proveedores['direccion'] = df_proveedores['direccion'].str.title()\n",
    "df_proveedores['ciudad'] = df_proveedores['ciudad'].str.title()\n",
    "df_proveedores['estado'] = df_proveedores['estado'].str.title()\n",
    "df_proveedores['pais'] = df_proveedores['pais'].str.title()\n",
    "df_proveedores['departamento'] = df_proveedores['departamento'].str.title()"
   ]
  },
  {
   "cell_type": "markdown",
   "metadata": {},
   "source": [
    "## Sucursales"
   ]
  },
  {
   "cell_type": "code",
   "execution_count": 377,
   "metadata": {},
   "outputs": [],
   "source": [
    "df_sucursales['direccion'] = df_sucursales['direccion'].str.title()"
   ]
  },
  {
   "cell_type": "code",
   "execution_count": 378,
   "metadata": {},
   "outputs": [],
   "source": [
    "df_loc_normales = pd.read_csv('../Datasets/localidades_normalizadas.csv', sep=',', encoding='utf-8')\n",
    "localidades_normalizadas = list(df_loc_normales['localidad_censal_nombre'].unique())"
   ]
  },
  {
   "cell_type": "code",
   "execution_count": 379,
   "metadata": {},
   "outputs": [],
   "source": [
    "localidades_unicas = df_sucursales['localidad'].unique()"
   ]
  },
  {
   "cell_type": "code",
   "execution_count": 380,
   "metadata": {},
   "outputs": [],
   "source": [
    "for loc_normal in localidades_normalizadas:\n",
    "    for loc_dataset in localidades_unicas:\n",
    "        porc_parecido = lev.ratio(loc_normal.lower(), loc_dataset.lower())\n",
    "        if porc_parecido >= 0.50:\n",
    "            df_sucursales.loc[(df_sucursales['localidad']==loc_dataset), 'localidad'] = loc_normal"
   ]
  },
  {
   "cell_type": "code",
   "execution_count": 383,
   "metadata": {},
   "outputs": [],
   "source": [
    "provincias_unicas = list(df_sucursales['provincia'].unique())\n",
    "\n",
    "for prov_normal in provincias_normalizadas:\n",
    "    for prov_dataset in provincias_unicas:\n",
    "        porc_parecido = lev.ratio(prov_normal.lower(), prov_dataset.lower())\n",
    "        if porc_parecido >= 0.40:\n",
    "            df_sucursales.loc[(df_sucursales['provincia']==prov_dataset), 'provincia'] = prov_normal"
   ]
  },
  {
   "cell_type": "markdown",
   "metadata": {},
   "source": [
    "## KPIS"
   ]
  },
  {
   "cell_type": "markdown",
   "metadata": {},
   "source": [
    "5 sucursales con más ventas"
   ]
  },
  {
   "cell_type": "code",
   "execution_count": 103,
   "metadata": {},
   "outputs": [],
   "source": [
    "k = pd.DataFrame(df_ventas.groupby(['idSucursal'])['precio'].sum())"
   ]
  }
 ],
 "metadata": {
  "kernelspec": {
   "display_name": "Python 3.10.5 64-bit (windows store)",
   "language": "python",
   "name": "python3"
  },
  "language_info": {
   "codemirror_mode": {
    "name": "ipython",
    "version": 3
   },
   "file_extension": ".py",
   "mimetype": "text/x-python",
   "name": "python",
   "nbconvert_exporter": "python",
   "pygments_lexer": "ipython3",
   "version": "3.10.5"
  },
  "orig_nbformat": 4,
  "vscode": {
   "interpreter": {
    "hash": "1ef47f4165116b14d53321dc99b29d4e9c72347c275033ccf951af3c7befa3a1"
   }
  }
 },
 "nbformat": 4,
 "nbformat_minor": 2
}
