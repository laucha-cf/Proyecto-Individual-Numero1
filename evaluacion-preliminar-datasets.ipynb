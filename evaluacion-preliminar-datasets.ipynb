{
 "cells": [
  {
   "cell_type": "code",
   "execution_count": 2,
   "metadata": {},
   "outputs": [],
   "source": [
    "import pandas as pd\n",
    "import numpy as np\n",
    "import matplotlib.pyplot as plt\n",
    "import seaborn as sns"
   ]
  },
  {
   "cell_type": "markdown",
   "metadata": {},
   "source": [
    "Antes de levantar los archivos, cambiamos su atributo `encoding` a `utf-8`. <br>\n",
    "Luego elegimos el encoding (puede ser ANSI o Latin-1, por el momento, debido a las tildes)."
   ]
  },
  {
   "cell_type": "code",
   "execution_count": 3,
   "metadata": {},
   "outputs": [],
   "source": [
    "#Levantamos los datasets en crudo (archivos .csv)\n",
    "df_clientes     =pd.read_csv('./Datasets/Clientes.csv'   , encoding='latin-1', sep=';')\n",
    "df_compras      =pd.read_csv('./Datasets/Compra.csv'     , encoding='latin-1', sep=',')\n",
    "df_gastos       =pd.read_csv('./Datasets/Gasto.csv'      , encoding='latin-1', sep=',')\n",
    "df_localidades  =pd.read_csv('./Datasets/Localidades.csv', encoding='latin-1', sep=',')\n",
    "df_proveedores  =pd.read_csv('./Datasets/Proveedores.csv', encoding='latin-1', sep=',')\n",
    "df_sucursales   =pd.read_csv('./Datasets/Sucursales.csv' , encoding='latin-1', sep=';')\n",
    "df_ventas       =pd.read_csv('./Datasets/Venta.csv'      , encoding='latin-1', sep=',')"
   ]
  },
  {
   "cell_type": "markdown",
   "metadata": {},
   "source": [
    "Las columnas están nombradas sin seguir ninguna regla. Algunas en mayúsculas, otras en minúsculas, con `camelcase` u otro tipo de separación entre palabras, cómo la separación mediante `underscore`.\n",
    "Además,ciertos nombres no son lo suficientemente descriptivos para brindarnos la información necesaria sobre lo que contiene la columna. <br>\n",
    "Este mismo invonveniente tenemos en el contenido de ciertas columnas. Los datos no siguen un estándar de escritura."
   ]
  },
  {
   "cell_type": "code",
   "execution_count": 15,
   "metadata": {},
   "outputs": [
    {
     "data": {
      "text/html": [
       "<div>\n",
       "<style scoped>\n",
       "    .dataframe tbody tr th:only-of-type {\n",
       "        vertical-align: middle;\n",
       "    }\n",
       "\n",
       "    .dataframe tbody tr th {\n",
       "        vertical-align: top;\n",
       "    }\n",
       "\n",
       "    .dataframe thead th {\n",
       "        text-align: right;\n",
       "    }\n",
       "</style>\n",
       "<table border=\"1\" class=\"dataframe\">\n",
       "  <thead>\n",
       "    <tr style=\"text-align: right;\">\n",
       "      <th></th>\n",
       "      <th>ID</th>\n",
       "      <th>Provincia</th>\n",
       "      <th>Nombre_y_Apellido</th>\n",
       "      <th>Domicilio</th>\n",
       "      <th>Telefono</th>\n",
       "      <th>Edad</th>\n",
       "      <th>Localidad</th>\n",
       "      <th>X</th>\n",
       "      <th>Y</th>\n",
       "      <th>col10</th>\n",
       "    </tr>\n",
       "  </thead>\n",
       "  <tbody>\n",
       "    <tr>\n",
       "      <th>0</th>\n",
       "      <td>1</td>\n",
       "      <td>Buenos Aires</td>\n",
       "      <td>HEBER JONI SANTANA</td>\n",
       "      <td>LAS HERAS Y BAT. 24 DE FEBRERO 4150  RINCON DE...</td>\n",
       "      <td>42-5161</td>\n",
       "      <td>58</td>\n",
       "      <td>LOMA VERDE</td>\n",
       "      <td>-58,81850307</td>\n",
       "      <td>-34,30997088</td>\n",
       "      <td>NaN</td>\n",
       "    </tr>\n",
       "  </tbody>\n",
       "</table>\n",
       "</div>"
      ],
      "text/plain": [
       "   ID     Provincia   Nombre_y_Apellido  \\\n",
       "0   1  Buenos Aires  HEBER JONI SANTANA   \n",
       "\n",
       "                                           Domicilio Telefono  Edad  \\\n",
       "0  LAS HERAS Y BAT. 24 DE FEBRERO 4150  RINCON DE...  42-5161    58   \n",
       "\n",
       "    Localidad             X             Y  col10  \n",
       "0  LOMA VERDE  -58,81850307  -34,30997088    NaN  "
      ]
     },
     "execution_count": 15,
     "metadata": {},
     "output_type": "execute_result"
    }
   ],
   "source": [
    "\"\"\"Mencionamos algunas incongruencias...\n",
    "- Que es X o Y? \n",
    "- ID en mayúsculas y el resto de columnas capitalizadas? \n",
    "- El domicilio se carga en mayúsculas?\n",
    "\"\"\"\n",
    "df_clientes.head(1)"
   ]
  },
  {
   "cell_type": "markdown",
   "metadata": {},
   "source": [
    "No existe una `normalización` con respecto a los datos insertados. Es decir, nos encontramos con diversas maneras de referir al mismo dato. <br>\n",
    "Tomamos el ejemplo concreto de la tabla **Sucursales.csv**. Al ingresar el nombre de una Provincia, se debe determinar la manera correcta de ingestarlo, y ese marco debe ser respetado en las futuras ingestas. <br>\n",
    "¿De cuantas maneras distintas se puede escribir un mismo dato? No es algo que busquemos saber.\n",
    "En su lugar, determinemos, por ejemplo: a partir de ahora Buenos Aires se debe incertar de la \n",
    "siguiente manera -> `'Ciudad de Buenos Aires'`. Siempre así, no se aceptan variaciones.\n",
    "Para evitar tener que lidiar con 'Bs. As', 'Buenos Aires', 'C. de Buenos Aires', etc etc"
   ]
  },
  {
   "cell_type": "code",
   "execution_count": 17,
   "metadata": {},
   "outputs": [
    {
     "data": {
      "text/html": [
       "<div>\n",
       "<style scoped>\n",
       "    .dataframe tbody tr th:only-of-type {\n",
       "        vertical-align: middle;\n",
       "    }\n",
       "\n",
       "    .dataframe tbody tr th {\n",
       "        vertical-align: top;\n",
       "    }\n",
       "\n",
       "    .dataframe thead th {\n",
       "        text-align: right;\n",
       "    }\n",
       "</style>\n",
       "<table border=\"1\" class=\"dataframe\">\n",
       "  <thead>\n",
       "    <tr style=\"text-align: right;\">\n",
       "      <th></th>\n",
       "      <th>ID</th>\n",
       "      <th>Sucursal</th>\n",
       "      <th>Direccion</th>\n",
       "      <th>Localidad</th>\n",
       "      <th>Provincia</th>\n",
       "      <th>Latitud</th>\n",
       "      <th>Longitud</th>\n",
       "    </tr>\n",
       "  </thead>\n",
       "  <tbody>\n",
       "    <tr>\n",
       "      <th>0</th>\n",
       "      <td>1</td>\n",
       "      <td>Cabildo</td>\n",
       "      <td>Av. Cabildo 1342</td>\n",
       "      <td>Ciudad de Buenos Aires</td>\n",
       "      <td>Ciudad de Buenos Aires</td>\n",
       "      <td>-34,5678060</td>\n",
       "      <td>-58,4495720</td>\n",
       "    </tr>\n",
       "    <tr>\n",
       "      <th>1</th>\n",
       "      <td>2</td>\n",
       "      <td>Palermo 1</td>\n",
       "      <td>Guatemala 5701</td>\n",
       "      <td>CABA</td>\n",
       "      <td>CABA</td>\n",
       "      <td>-34,5790350</td>\n",
       "      <td>-58,4335660</td>\n",
       "    </tr>\n",
       "    <tr>\n",
       "      <th>2</th>\n",
       "      <td>3</td>\n",
       "      <td>Palermo 2</td>\n",
       "      <td>Gral. Lucio Norberto Mansilla 2668</td>\n",
       "      <td>CABA</td>\n",
       "      <td>C deBuenos Aires</td>\n",
       "      <td>-34,5959660</td>\n",
       "      <td>-58,4051500</td>\n",
       "    </tr>\n",
       "    <tr>\n",
       "      <th>3</th>\n",
       "      <td>4</td>\n",
       "      <td>Corrientes</td>\n",
       "      <td>Av. Corrientes 2352</td>\n",
       "      <td>Ciudad de Buenos Aires</td>\n",
       "      <td>Bs As</td>\n",
       "      <td>-34,6046850</td>\n",
       "      <td>-58,3987640</td>\n",
       "    </tr>\n",
       "    <tr>\n",
       "      <th>4</th>\n",
       "      <td>5</td>\n",
       "      <td>Almagro</td>\n",
       "      <td>Venezuela 3650</td>\n",
       "      <td>Capital</td>\n",
       "      <td>Bs.As.</td>\n",
       "      <td>-34,6173080</td>\n",
       "      <td>-58,4161790</td>\n",
       "    </tr>\n",
       "  </tbody>\n",
       "</table>\n",
       "</div>"
      ],
      "text/plain": [
       "   ID    Sucursal                           Direccion               Localidad  \\\n",
       "0   1     Cabildo                    Av. Cabildo 1342  Ciudad de Buenos Aires   \n",
       "1   2   Palermo 1                      Guatemala 5701                    CABA   \n",
       "2   3   Palermo 2  Gral. Lucio Norberto Mansilla 2668                    CABA   \n",
       "3   4  Corrientes                 Av. Corrientes 2352  Ciudad de Buenos Aires   \n",
       "4   5     Almagro                      Venezuela 3650                 Capital   \n",
       "\n",
       "                Provincia      Latitud     Longitud  \n",
       "0  Ciudad de Buenos Aires  -34,5678060  -58,4495720  \n",
       "1                    CABA  -34,5790350  -58,4335660  \n",
       "2        C deBuenos Aires  -34,5959660  -58,4051500  \n",
       "3                   Bs As  -34,6046850  -58,3987640  \n",
       "4                 Bs.As.   -34,6173080  -58,4161790  "
      ]
     },
     "execution_count": 17,
     "metadata": {},
     "output_type": "execute_result"
    }
   ],
   "source": [
    "#Observemos que en solo 5 registros observamos que no existe normalización en Localidad y Provincia.\n",
    "df_sucursales.head()"
   ]
  }
 ],
 "metadata": {
  "kernelspec": {
   "display_name": "Python 3.10.2 64-bit",
   "language": "python",
   "name": "python3"
  },
  "language_info": {
   "codemirror_mode": {
    "name": "ipython",
    "version": 3
   },
   "file_extension": ".py",
   "mimetype": "text/x-python",
   "name": "python",
   "nbconvert_exporter": "python",
   "pygments_lexer": "ipython3",
   "version": "3.10.2"
  },
  "orig_nbformat": 4,
  "vscode": {
   "interpreter": {
    "hash": "510428449cbd3844e45262579cff7aa82d8d47f02b4035bfe069ac1b7e46235d"
   }
  }
 },
 "nbformat": 4,
 "nbformat_minor": 2
}
