{
 "cells": [
  {
   "cell_type": "code",
   "execution_count": 1,
   "metadata": {},
   "outputs": [],
   "source": [
    "import pandas as pd\n",
    "import numpy as np\n",
    "import matplotlib.pyplot as plt\n",
    "import seaborn as sns"
   ]
  },
  {
   "cell_type": "markdown",
   "metadata": {},
   "source": [
    "## Análisis Preliminar de Datos"
   ]
  },
  {
   "cell_type": "markdown",
   "metadata": {},
   "source": [
    "Antes de levantar los archivos, cambiamos su atributo `encoding` a `utf-8`. <br>\n",
    "Luego elegimos el encoding (puede ser ANSI o Latin-1, por el momento, debido a las tildes)."
   ]
  },
  {
   "cell_type": "code",
   "execution_count": 2,
   "metadata": {},
   "outputs": [],
   "source": [
    "#Levantamos los datasets en crudo (archivos .csv)\n",
    "df_clientes     =pd.read_csv('./Datasets/Clientes.csv'   , encoding='latin-1', sep=';')\n",
    "df_compras      =pd.read_csv('./Datasets/Compra.csv'     , encoding='latin-1', sep=',')\n",
    "df_gastos       =pd.read_csv('./Datasets/Gasto.csv'      , encoding='latin-1', sep=',')\n",
    "df_localidades  =pd.read_csv('./Datasets/Localidades.csv', encoding='latin-1', sep=',')\n",
    "df_proveedores  =pd.read_csv('./Datasets/Proveedores.csv', encoding='latin-1', sep=',')\n",
    "df_sucursales   =pd.read_csv('./Datasets/Sucursales.csv' , encoding='latin-1', sep=';')\n",
    "df_ventas       =pd.read_csv('./Datasets/Venta.csv'      , encoding='latin-1', sep=',')"
   ]
  },
  {
   "cell_type": "markdown",
   "metadata": {},
   "source": [
    "Las columnas están nombradas sin seguir ninguna regla. Algunas en mayúsculas, otras en minúsculas, con `camelcase` u otro tipo de separación entre palabras, cómo la separación mediante `underscore`.\n",
    "Además,ciertos nombres no son lo suficientemente descriptivos para brindarnos la información necesaria sobre lo que contiene la columna.<br>\n",
    "Este mismo invonveniente tenemos en el contenido de ciertas columnas. Los datos no siguen un estándar de escritura."
   ]
  },
  {
   "cell_type": "markdown",
   "metadata": {},
   "source": [
    "Mencionamos algunas incongruencias en el dataset **Clientes.csv**\n",
    "- Que es X o Y? No sabemos a que hace referencia.\n",
    "- ID en mayúsculas y el resto de columnas capitalizadas.\n",
    "- El domicilio se carga en mayúsculas?."
   ]
  },
  {
   "cell_type": "code",
   "execution_count": 3,
   "metadata": {},
   "outputs": [
    {
     "data": {
      "text/html": [
       "<div>\n",
       "<style scoped>\n",
       "    .dataframe tbody tr th:only-of-type {\n",
       "        vertical-align: middle;\n",
       "    }\n",
       "\n",
       "    .dataframe tbody tr th {\n",
       "        vertical-align: top;\n",
       "    }\n",
       "\n",
       "    .dataframe thead th {\n",
       "        text-align: right;\n",
       "    }\n",
       "</style>\n",
       "<table border=\"1\" class=\"dataframe\">\n",
       "  <thead>\n",
       "    <tr style=\"text-align: right;\">\n",
       "      <th></th>\n",
       "      <th>ID</th>\n",
       "      <th>Provincia</th>\n",
       "      <th>Nombre_y_Apellido</th>\n",
       "      <th>Domicilio</th>\n",
       "      <th>Telefono</th>\n",
       "      <th>Edad</th>\n",
       "      <th>Localidad</th>\n",
       "      <th>X</th>\n",
       "      <th>Y</th>\n",
       "      <th>col10</th>\n",
       "    </tr>\n",
       "  </thead>\n",
       "  <tbody>\n",
       "    <tr>\n",
       "      <th>0</th>\n",
       "      <td>1</td>\n",
       "      <td>Buenos Aires</td>\n",
       "      <td>HEBER JONI SANTANA</td>\n",
       "      <td>LAS HERAS Y BAT. 24 DE FEBRERO 4150  RINCON DE...</td>\n",
       "      <td>42-5161</td>\n",
       "      <td>58</td>\n",
       "      <td>LOMA VERDE</td>\n",
       "      <td>-58,81850307</td>\n",
       "      <td>-34,30997088</td>\n",
       "      <td>NaN</td>\n",
       "    </tr>\n",
       "  </tbody>\n",
       "</table>\n",
       "</div>"
      ],
      "text/plain": [
       "   ID     Provincia   Nombre_y_Apellido  \\\n",
       "0   1  Buenos Aires  HEBER JONI SANTANA   \n",
       "\n",
       "                                           Domicilio Telefono  Edad  \\\n",
       "0  LAS HERAS Y BAT. 24 DE FEBRERO 4150  RINCON DE...  42-5161    58   \n",
       "\n",
       "    Localidad             X             Y  col10  \n",
       "0  LOMA VERDE  -58,81850307  -34,30997088    NaN  "
      ]
     },
     "execution_count": 3,
     "metadata": {},
     "output_type": "execute_result"
    }
   ],
   "source": [
    "#Vemos las incongruencias en un solo registro...\n",
    "df_clientes.head(1)"
   ]
  },
  {
   "cell_type": "markdown",
   "metadata": {},
   "source": [
    "No existe una `normalización` con respecto a los datos insertados. Es decir, nos encontramos con diversas maneras de referir al mismo dato. <br>\n",
    "Tomamos el ejemplo concreto de la tabla **Sucursales.csv**. Al ingresar el nombre de una Provincia, se debe determinar la manera correcta de ingestarlo, y ese marco debe ser respetado en las futuras ingestas. <br>\n",
    "¿De cuantas maneras distintas se puede escribir un mismo dato? No es algo que busquemos saber.\n",
    "En su lugar, determinemos, por ejemplo: a partir de ahora Buenos Aires se debe incertar de la \n",
    "siguiente manera -> `'Ciudad de Buenos Aires'`. Siempre así, no se aceptan variaciones.\n",
    "Para evitar tener que lidiar con 'Bs. As', 'Buenos Aires', 'C. de Buenos Aires', etc etc"
   ]
  },
  {
   "cell_type": "code",
   "execution_count": 4,
   "metadata": {},
   "outputs": [
    {
     "data": {
      "text/html": [
       "<div>\n",
       "<style scoped>\n",
       "    .dataframe tbody tr th:only-of-type {\n",
       "        vertical-align: middle;\n",
       "    }\n",
       "\n",
       "    .dataframe tbody tr th {\n",
       "        vertical-align: top;\n",
       "    }\n",
       "\n",
       "    .dataframe thead th {\n",
       "        text-align: right;\n",
       "    }\n",
       "</style>\n",
       "<table border=\"1\" class=\"dataframe\">\n",
       "  <thead>\n",
       "    <tr style=\"text-align: right;\">\n",
       "      <th></th>\n",
       "      <th>ID</th>\n",
       "      <th>Sucursal</th>\n",
       "      <th>Direccion</th>\n",
       "      <th>Localidad</th>\n",
       "      <th>Provincia</th>\n",
       "      <th>Latitud</th>\n",
       "      <th>Longitud</th>\n",
       "    </tr>\n",
       "  </thead>\n",
       "  <tbody>\n",
       "    <tr>\n",
       "      <th>0</th>\n",
       "      <td>1</td>\n",
       "      <td>Cabildo</td>\n",
       "      <td>Av. Cabildo 1342</td>\n",
       "      <td>Ciudad de Buenos Aires</td>\n",
       "      <td>Ciudad de Buenos Aires</td>\n",
       "      <td>-34,5678060</td>\n",
       "      <td>-58,4495720</td>\n",
       "    </tr>\n",
       "    <tr>\n",
       "      <th>1</th>\n",
       "      <td>2</td>\n",
       "      <td>Palermo 1</td>\n",
       "      <td>Guatemala 5701</td>\n",
       "      <td>CABA</td>\n",
       "      <td>CABA</td>\n",
       "      <td>-34,5790350</td>\n",
       "      <td>-58,4335660</td>\n",
       "    </tr>\n",
       "    <tr>\n",
       "      <th>2</th>\n",
       "      <td>3</td>\n",
       "      <td>Palermo 2</td>\n",
       "      <td>Gral. Lucio Norberto Mansilla 2668</td>\n",
       "      <td>CABA</td>\n",
       "      <td>C deBuenos Aires</td>\n",
       "      <td>-34,5959660</td>\n",
       "      <td>-58,4051500</td>\n",
       "    </tr>\n",
       "    <tr>\n",
       "      <th>3</th>\n",
       "      <td>4</td>\n",
       "      <td>Corrientes</td>\n",
       "      <td>Av. Corrientes 2352</td>\n",
       "      <td>Ciudad de Buenos Aires</td>\n",
       "      <td>Bs As</td>\n",
       "      <td>-34,6046850</td>\n",
       "      <td>-58,3987640</td>\n",
       "    </tr>\n",
       "    <tr>\n",
       "      <th>4</th>\n",
       "      <td>5</td>\n",
       "      <td>Almagro</td>\n",
       "      <td>Venezuela 3650</td>\n",
       "      <td>Capital</td>\n",
       "      <td>Bs.As.</td>\n",
       "      <td>-34,6173080</td>\n",
       "      <td>-58,4161790</td>\n",
       "    </tr>\n",
       "  </tbody>\n",
       "</table>\n",
       "</div>"
      ],
      "text/plain": [
       "   ID    Sucursal                           Direccion               Localidad  \\\n",
       "0   1     Cabildo                    Av. Cabildo 1342  Ciudad de Buenos Aires   \n",
       "1   2   Palermo 1                      Guatemala 5701                    CABA   \n",
       "2   3   Palermo 2  Gral. Lucio Norberto Mansilla 2668                    CABA   \n",
       "3   4  Corrientes                 Av. Corrientes 2352  Ciudad de Buenos Aires   \n",
       "4   5     Almagro                      Venezuela 3650                 Capital   \n",
       "\n",
       "                Provincia      Latitud     Longitud  \n",
       "0  Ciudad de Buenos Aires  -34,5678060  -58,4495720  \n",
       "1                    CABA  -34,5790350  -58,4335660  \n",
       "2        C deBuenos Aires  -34,5959660  -58,4051500  \n",
       "3                   Bs As  -34,6046850  -58,3987640  \n",
       "4                 Bs.As.   -34,6173080  -58,4161790  "
      ]
     },
     "execution_count": 4,
     "metadata": {},
     "output_type": "execute_result"
    }
   ],
   "source": [
    "#Observemos que en solo 5 registros observamos que no existe normalización en Localidad y Provincia.\n",
    "df_sucursales.head()"
   ]
  },
  {
   "cell_type": "markdown",
   "metadata": {},
   "source": [
    "## Evaluación de Calidad de Datos"
   ]
  },
  {
   "cell_type": "markdown",
   "metadata": {},
   "source": [
    "El dataset **Clientes.csv** posee una columna completa con valores nulos.Procedemos a eliminarla debido a que no aporta ningún tipo de valor y entorpece el análisis."
   ]
  },
  {
   "cell_type": "code",
   "execution_count": 90,
   "metadata": {},
   "outputs": [],
   "source": [
    "df_clientes.drop(columns='col10', inplace=True)"
   ]
  },
  {
   "cell_type": "markdown",
   "metadata": {},
   "source": [
    "Obtenemos un análisis de los registros y datos de todos los datasets."
   ]
  },
  {
   "cell_type": "code",
   "execution_count": 154,
   "metadata": {},
   "outputs": [],
   "source": [
    "dataFrames = [df_clientes, df_compras, df_gastos, df_localidades, df_proveedores, df_sucursales, df_ventas]\n",
    "names = ['df_clientes', 'df_compras', 'df_gastos', 'df_localidades', 'df_proveedores', 'df_sucursales', 'df_ventas']"
   ]
  },
  {
   "cell_type": "code",
   "execution_count": 155,
   "metadata": {},
   "outputs": [],
   "source": [
    "total_datos = []\n",
    "sin_null = []\n",
    "con_null = []\n",
    "total_registros = []\n",
    "total_registros_null = []\n",
    "\n",
    "for i, df in enumerate(dataFrames):\n",
    "    #Datos null inclusive\n",
    "    total_datos.append( df.shape[0] * df.shape[1] )\n",
    "    #Datos sin null\n",
    "    sin_null.append(df.count().sum())\n",
    "    #Cantidad de Registros\n",
    "    total_registros.append( len(df) )\n",
    "    #Datos null\n",
    "    null_columnas = df.isna().sum()\n",
    "    con_null.append( null_columnas.sum() )\n",
    "    #Obtenemos la cantidad de registros que poseen al menos un dato nulo\n",
    "    is_null = df.isnull()\n",
    "    row_has_null = is_null.any(axis=1)\n",
    "    total_registros_null.append( len(df[row_has_null]) )"
   ]
  },
  {
   "cell_type": "code",
   "execution_count": 156,
   "metadata": {},
   "outputs": [],
   "source": [
    "data = pd.DataFrame({\n",
    "'Dataset': names,\n",
    "'Datos Total': total_datos, \n",
    "'Datos sin null': sin_null, \n",
    "'Datos Nulos': con_null, \n",
    "'Cantidad Registros': total_registros, \n",
    "'Cant de Registros con Null': total_registros_null\n",
    "})"
   ]
  },
  {
   "cell_type": "code",
   "execution_count": 161,
   "metadata": {},
   "outputs": [
    {
     "data": {
      "text/html": [
       "<div>\n",
       "<style scoped>\n",
       "    .dataframe tbody tr th:only-of-type {\n",
       "        vertical-align: middle;\n",
       "    }\n",
       "\n",
       "    .dataframe tbody tr th {\n",
       "        vertical-align: top;\n",
       "    }\n",
       "\n",
       "    .dataframe thead th {\n",
       "        text-align: right;\n",
       "    }\n",
       "</style>\n",
       "<table border=\"1\" class=\"dataframe\">\n",
       "  <thead>\n",
       "    <tr style=\"text-align: right;\">\n",
       "      <th></th>\n",
       "      <th>Dataset</th>\n",
       "      <th>Datos Total</th>\n",
       "      <th>Datos sin null</th>\n",
       "      <th>Datos Nulos</th>\n",
       "      <th>Cantidad Registros</th>\n",
       "      <th>Cant de Registros con Null</th>\n",
       "    </tr>\n",
       "  </thead>\n",
       "  <tbody>\n",
       "    <tr>\n",
       "      <th>0</th>\n",
       "      <td>df_clientes</td>\n",
       "      <td>24048</td>\n",
       "      <td>23787</td>\n",
       "      <td>261</td>\n",
       "      <td>2672</td>\n",
       "      <td>145</td>\n",
       "    </tr>\n",
       "    <tr>\n",
       "      <th>1</th>\n",
       "      <td>df_compras</td>\n",
       "      <td>103851</td>\n",
       "      <td>103484</td>\n",
       "      <td>367</td>\n",
       "      <td>11539</td>\n",
       "      <td>367</td>\n",
       "    </tr>\n",
       "    <tr>\n",
       "      <th>2</th>\n",
       "      <td>df_gastos</td>\n",
       "      <td>43200</td>\n",
       "      <td>43200</td>\n",
       "      <td>0</td>\n",
       "      <td>8640</td>\n",
       "      <td>0</td>\n",
       "    </tr>\n",
       "    <tr>\n",
       "      <th>3</th>\n",
       "      <td>df_localidades</td>\n",
       "      <td>57988</td>\n",
       "      <td>56949</td>\n",
       "      <td>1039</td>\n",
       "      <td>4142</td>\n",
       "      <td>543</td>\n",
       "    </tr>\n",
       "    <tr>\n",
       "      <th>4</th>\n",
       "      <td>df_proveedores</td>\n",
       "      <td>98</td>\n",
       "      <td>96</td>\n",
       "      <td>2</td>\n",
       "      <td>14</td>\n",
       "      <td>2</td>\n",
       "    </tr>\n",
       "    <tr>\n",
       "      <th>5</th>\n",
       "      <td>df_sucursales</td>\n",
       "      <td>217</td>\n",
       "      <td>217</td>\n",
       "      <td>0</td>\n",
       "      <td>31</td>\n",
       "      <td>0</td>\n",
       "    </tr>\n",
       "    <tr>\n",
       "      <th>6</th>\n",
       "      <td>df_ventas</td>\n",
       "      <td>466450</td>\n",
       "      <td>464634</td>\n",
       "      <td>1816</td>\n",
       "      <td>46645</td>\n",
       "      <td>1800</td>\n",
       "    </tr>\n",
       "  </tbody>\n",
       "</table>\n",
       "</div>"
      ],
      "text/plain": [
       "          Dataset  Datos Total  Datos sin null  Datos Nulos  \\\n",
       "0     df_clientes        24048           23787          261   \n",
       "1      df_compras       103851          103484          367   \n",
       "2       df_gastos        43200           43200            0   \n",
       "3  df_localidades        57988           56949         1039   \n",
       "4  df_proveedores           98              96            2   \n",
       "5   df_sucursales          217             217            0   \n",
       "6       df_ventas       466450          464634         1816   \n",
       "\n",
       "   Cantidad Registros  Cant de Registros con Null  \n",
       "0                2672                         145  \n",
       "1               11539                         367  \n",
       "2                8640                           0  \n",
       "3                4142                         543  \n",
       "4                  14                           2  \n",
       "5                  31                           0  \n",
       "6               46645                        1800  "
      ]
     },
     "execution_count": 161,
     "metadata": {},
     "output_type": "execute_result"
    }
   ],
   "source": [
    "data"
   ]
  },
  {
   "cell_type": "markdown",
   "metadata": {},
   "source": [
    "Guardamos el resultado en un archivo para su futura consulta."
   ]
  },
  {
   "cell_type": "code",
   "execution_count": 163,
   "metadata": {},
   "outputs": [],
   "source": [
    "data.to_csv('analisis.csv', index=False)"
   ]
  }
 ],
 "metadata": {
  "kernelspec": {
   "display_name": "Python 3.10.2 64-bit",
   "language": "python",
   "name": "python3"
  },
  "language_info": {
   "codemirror_mode": {
    "name": "ipython",
    "version": 3
   },
   "file_extension": ".py",
   "mimetype": "text/x-python",
   "name": "python",
   "nbconvert_exporter": "python",
   "pygments_lexer": "ipython3",
   "version": "3.10.2"
  },
  "orig_nbformat": 4,
  "vscode": {
   "interpreter": {
    "hash": "510428449cbd3844e45262579cff7aa82d8d47f02b4035bfe069ac1b7e46235d"
   }
  }
 },
 "nbformat": 4,
 "nbformat_minor": 2
}
