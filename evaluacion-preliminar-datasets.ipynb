{
 "cells": [
  {
   "cell_type": "code",
   "execution_count": 1,
   "metadata": {},
   "outputs": [],
   "source": [
    "import pandas as pd\n",
    "import numpy as np\n",
    "import matplotlib.pyplot as plt\n",
    "import seaborn as sns"
   ]
  },
  {
   "cell_type": "markdown",
   "metadata": {},
   "source": [
    "Antes de levantar los archivos, debemos cambiar su atributo `encoding` a `utf-8`. <br>\n",
    "Luego elegimos el encoding (puede ser ANSI o Latin-1, por el momento, debido a las tildes)."
   ]
  },
  {
   "cell_type": "code",
   "execution_count": 99,
   "metadata": {},
   "outputs": [],
   "source": [
    "#Levantamos los datasets en crudo (archivos .csv)\n",
    "df_clientes     =pd.read_csv('./Datasets/Clientes.csv'   , encoding='latin-1', sep=';')\n",
    "df_compras      =pd.read_csv('./Datasets/Compra.csv'     , encoding='latin-1', sep=',')\n",
    "df_gastos       =pd.read_csv('./Datasets/Gasto.csv'      , encoding='latin-1', sep=',')\n",
    "df_localidades  =pd.read_csv('./Datasets/Localidades.csv', encoding='latin-1', sep=',')\n",
    "df_proveedores  =pd.read_csv('./Datasets/Proveedores.csv', encoding='latin-1', sep=',')\n",
    "df_sucursales   =pd.read_csv('./Datasets/Sucursales.csv' , encoding='latin-1', sep=';')\n",
    "df_ventas       =pd.read_csv('./Datasets/Venta.csv'      , encoding='latin-1', sep=',')"
   ]
  },
  {
   "cell_type": "markdown",
   "metadata": {},
   "source": [
    "Renombramos las columnas"
   ]
  },
  {
   "cell_type": "code",
   "execution_count": 102,
   "metadata": {},
   "outputs": [],
   "source": [
    "#Clientes\n",
    "columnas_nuevas = ['provincia', 'nom_y_ape', 'domicilio', 'tel', 'edad', 'localidad', 'lat', 'long', 'col10']\n",
    "df_clientes.columns = columnas_nuevas\n",
    "\n",
    "#Compras\n",
    "columnas_nuevas = ['fecha', 'año', 'mes', 'periodo', 'idProducto','cantidad', 'precio', 'idProveedor']\n",
    "df_compras.columns = columnas_nuevas\n",
    "\n",
    "#Gastos\n",
    "columnas_nuevas = ['idSucursal', 'idTipoGasto', 'fecha', 'monto']\n",
    "df_gastos.columns = columnas_nuevas\n",
    "\n",
    "#Localidades\n",
    "columnas_nuevas = ['categoria','lat','lon','idDepartamento','nombreDepartamento','fuente','idLocalidadCensal','nombreLocalidadCensal','idMunicipio','nombreMunicipio','nombreLocalidad','idProvincia','nombreProvincia']\n",
    "df_localidades.columns = columnas_nuevas\n",
    "\n",
    "#Proveedores\n",
    "columnas_nuevas = ['nombre', 'direccion', 'ciudad', 'estado', 'pais', 'departamento']\n",
    "df_proveedores.columns = columnas_nuevas\n",
    "\n",
    "#Sucursales\n",
    "columnas_nuevas = ['sucursal', 'direccion', 'localidad', 'provincia', 'lat', 'long']\n",
    "df_sucursales.columns = columnas_nuevas\n",
    "\n",
    "#Ventas\n",
    "columnas_nuevas = ['fechaVenta','fechaEntrega','idCanal','idCliente','idSucursal','idEmpleado','idProducto','precio','cantidad']\n",
    "df_ventas.columns = columnas_nuevas"
   ]
  },
  {
   "cell_type": "markdown",
   "metadata": {},
   "source": [
    "Renombramos los índices"
   ]
  },
  {
   "cell_type": "code",
   "execution_count": 104,
   "metadata": {},
   "outputs": [],
   "source": [
    "df_clientes.index.name = 'idCliente'\n",
    "df_compras.index.name = 'idCompra'\n",
    "df_gastos.index.name = 'idGasto'\n",
    "df_localidades.index.name = 'idLocalidad'\n",
    "df_proveedores.index.name = 'idProveedor'\n",
    "df_sucursales.index.name = 'idSucursal'\n",
    "df_ventas.index.name = 'idVenta'"
   ]
  },
  {
   "cell_type": "markdown",
   "metadata": {},
   "source": []
  }
 ],
 "metadata": {
  "kernelspec": {
   "display_name": "Python 3.10.2 64-bit",
   "language": "python",
   "name": "python3"
  },
  "language_info": {
   "codemirror_mode": {
    "name": "ipython",
    "version": 3
   },
   "file_extension": ".py",
   "mimetype": "text/x-python",
   "name": "python",
   "nbconvert_exporter": "python",
   "pygments_lexer": "ipython3",
   "version": "3.10.2"
  },
  "orig_nbformat": 4,
  "vscode": {
   "interpreter": {
    "hash": "510428449cbd3844e45262579cff7aa82d8d47f02b4035bfe069ac1b7e46235d"
   }
  }
 },
 "nbformat": 4,
 "nbformat_minor": 2
}
