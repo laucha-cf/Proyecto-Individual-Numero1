{
 "cells": [
  {
   "cell_type": "code",
   "execution_count": 104,
   "metadata": {},
   "outputs": [],
   "source": [
    "import numpy as np\n",
    "import pandas as pd\n",
    "import matplotlib.pyplot as plt\n",
    "import seaborn as sns\n",
    "import Levenshtein as lev\n",
    "sns.set()"
   ]
  },
  {
   "cell_type": "code",
   "execution_count": 105,
   "metadata": {},
   "outputs": [],
   "source": [
    "#Levantamos los datasets en crudo (archivos .csv)\n",
    "df_clientes     =pd.read_csv('../Datasets/Clientes.csv'   , encoding='latin-1', sep=';')\n",
    "df_compras      =pd.read_csv('../Datasets/Compra.csv'     , encoding='latin-1', sep=',')\n",
    "df_gastos       =pd.read_csv('../Datasets/Gasto.csv'      , encoding='latin-1', sep=',')\n",
    "df_localidades  =pd.read_csv('../Datasets/Localidades.csv', encoding='latin-1', sep=',')\n",
    "df_proveedores  =pd.read_csv('../Datasets/Proveedores.csv', encoding='latin-1', sep=',')\n",
    "df_sucursales   =pd.read_csv('../Datasets/Sucursales.csv' , encoding='latin-1', sep=';')\n",
    "df_ventas       =pd.read_csv('../Datasets/Venta.csv'      , encoding='latin-1', sep=',')\n",
    "df_canalventa   =pd.read_excel('../Datasets/CanalDeVenta.xlsx')\n",
    "df_tipogasto    =pd.read_csv('../Datasets/TiposDeGasto.csv', encoding='latin-1', sep=',')"
   ]
  },
  {
   "cell_type": "markdown",
   "metadata": {},
   "source": []
  },
  {
   "cell_type": "markdown",
   "metadata": {},
   "source": [
    "Provincias Normalizadas"
   ]
  },
  {
   "cell_type": "code",
   "execution_count": 106,
   "metadata": {},
   "outputs": [],
   "source": [
    "df_provincias = pd.read_csv('../Datasets/provincias.csv', sep=',', encoding='utf-8')\n",
    "provincias_normalizadas = list(df_provincias['nombre_completo'].unique())"
   ]
  },
  {
   "cell_type": "markdown",
   "metadata": {},
   "source": [
    "#### Renombrando columnas"
   ]
  },
  {
   "cell_type": "code",
   "execution_count": 107,
   "metadata": {},
   "outputs": [],
   "source": [
    "#Clientes\n",
    "cols_nuevas = ['idCliente','provincia', 'nom_y_ape', 'domicilio', 'tel', 'edad', 'localidad', 'lat', 'long', 'col10']\n",
    "df_clientes.columns = cols_nuevas\n",
    "\n",
    "#Compras\n",
    "cols_nuevas = ['idCompra','fecha', 'año', 'mes', 'periodo', 'idProducto','cantidad', 'precio', 'idProveedor']\n",
    "df_compras.columns = cols_nuevas\n",
    "\n",
    "#Gastos\n",
    "cols_nuevas = ['idGasto', 'idSucursal', 'idTipoGasto', 'fecha', 'monto']\n",
    "df_gastos.columns = cols_nuevas\n",
    "\n",
    "#Localidades\n",
    "cols_nuevas = ['categoria','lat','lon','idDepartamento','nombreDepartamento','fuente','idLocalidad','idLocalidadCensal','nombreLocalidadCensal','idMunicipio','nombreMunicipio','nombreLocalidad','idProvincia','nombreProvincia']\n",
    "df_localidades.columns = cols_nuevas\n",
    "\n",
    "#Proveedores\n",
    "cols_nuevas = ['idProveedor','nombre', 'direccion', 'ciudad', 'estado', 'pais', 'departamento']\n",
    "df_proveedores.columns = cols_nuevas\n",
    "\n",
    "#Sucursales\n",
    "cols_nuevas = ['idSucursal','sucursal', 'direccion', 'localidad', 'provincia', 'lat', 'long']\n",
    "df_sucursales.columns = cols_nuevas\n",
    "\n",
    "#Ventas\n",
    "cols_nuevas = ['idVenta','fechaVenta','fechaEntrega','idCanal','idCliente','idSucursal','idEmpleado','idProducto','precio','cantidad']\n",
    "df_ventas.columns = cols_nuevas\n",
    "\n",
    "#Tipo de Gasto\n",
    "cols_nuevas = ['idTipoGasto', 'descripcion', 'montoAprox']\n",
    "df_tipogasto.columns = cols_nuevas\n",
    "\n",
    "#Canal de Venta\n",
    "cols_nuevas = ['codigo', 'descripcion']\n",
    "df_canalventa.columns = cols_nuevas"
   ]
  },
  {
   "cell_type": "markdown",
   "metadata": {},
   "source": [
    "## Clientes"
   ]
  },
  {
   "cell_type": "markdown",
   "metadata": {},
   "source": [
    "Eliminamos la columna 'col10' ya que no aporta nada al dataset."
   ]
  },
  {
   "cell_type": "code",
   "execution_count": 108,
   "metadata": {},
   "outputs": [],
   "source": [
    "df_clientes.drop(columns='col10', inplace=True)"
   ]
  },
  {
   "cell_type": "markdown",
   "metadata": {},
   "source": [
    "Capitalizamos la columna 'nom_y_ape', 'provincia', 'localidad' y 'domicilio'."
   ]
  },
  {
   "cell_type": "code",
   "execution_count": 109,
   "metadata": {},
   "outputs": [],
   "source": [
    "columnas = ['provincia', 'nom_y_ape', 'localidad', 'domicilio']\n",
    "for col in columnas:\n",
    "    df_clientes[col] = df_clientes[col].str.title()"
   ]
  },
  {
   "cell_type": "markdown",
   "metadata": {},
   "source": [
    "Llenamos los nulos con el promedio para poder realizar la conversion.<br>\n",
    "Convertimos a entero el campo 'edad'."
   ]
  },
  {
   "cell_type": "code",
   "execution_count": 110,
   "metadata": {},
   "outputs": [],
   "source": [
    "df_clientes['edad'].fillna(int(df_clientes['edad'].mean()), inplace=True)"
   ]
  },
  {
   "cell_type": "code",
   "execution_count": 111,
   "metadata": {},
   "outputs": [],
   "source": [
    "df_clientes['edad'] = df_clientes['edad'].astype('int')"
   ]
  },
  {
   "cell_type": "markdown",
   "metadata": {},
   "source": [
    "Latitud y Longitud"
   ]
  },
  {
   "cell_type": "code",
   "execution_count": 112,
   "metadata": {},
   "outputs": [],
   "source": [
    "df_clientes['lat'] = df_clientes['lat'].str.replace(',', '')\n",
    "df_clientes['long'] = df_clientes['long'].str.replace(',', '')"
   ]
  },
  {
   "cell_type": "code",
   "execution_count": 113,
   "metadata": {},
   "outputs": [],
   "source": [
    "df_clientes['lat'] = pd.to_numeric(df_clientes['lat'], errors='coerce', downcast='float')"
   ]
  },
  {
   "cell_type": "markdown",
   "metadata": {},
   "source": [
    "Normalizamos las provincias"
   ]
  },
  {
   "cell_type": "code",
   "execution_count": 121,
   "metadata": {},
   "outputs": [],
   "source": [
    "m = df_clientes['provincia'].isna()"
   ]
  },
  {
   "cell_type": "code",
   "execution_count": 124,
   "metadata": {},
   "outputs": [
    {
     "name": "stderr",
     "output_type": "stream",
     "text": [
      "C:\\Users\\Laucha\\AppData\\Local\\Temp\\ipykernel_3792\\2905108201.py:5: SettingWithCopyWarning: \n",
      "A value is trying to be set on a copy of a slice from a DataFrame\n",
      "\n",
      "See the caveats in the documentation: https://pandas.pydata.org/pandas-docs/stable/user_guide/indexing.html#returning-a-view-versus-a-copy\n",
      "  df_clientes['provincia'][i] = prov_normal\n"
     ]
    }
   ],
   "source": [
    "for prov_normal in provincias_normalizadas:\n",
    "    for i, prov in enumerate(df_clientes.loc[(m==False),'provincia']):\n",
    "        porc_parecido = lev.ratio(prov_normal.lower(), prov.lower())\n",
    "        if (porc_parecido > 0.50):\n",
    "            df_clientes['provincia'][i] = prov_normal"
   ]
  },
  {
   "cell_type": "markdown",
   "metadata": {},
   "source": [
    "## Compras"
   ]
  },
  {
   "cell_type": "markdown",
   "metadata": {},
   "source": [
    "Columna 'precio' convertida a float.<br>"
   ]
  },
  {
   "cell_type": "code",
   "execution_count": null,
   "metadata": {},
   "outputs": [],
   "source": [
    "m = df_compras['precio'].isna()\n",
    "df_compras.loc[(m==False), 'precio'] = df_compras['precio'].astype('float')"
   ]
  },
  {
   "cell_type": "markdown",
   "metadata": {},
   "source": [
    "Llenamos los nulos con el promedio"
   ]
  },
  {
   "cell_type": "code",
   "execution_count": null,
   "metadata": {},
   "outputs": [],
   "source": [
    "df_compras['precio'].fillna(df_compras['precio'].mean(), inplace=True)"
   ]
  },
  {
   "cell_type": "markdown",
   "metadata": {},
   "source": [
    "Columnas 'idCompra', 'año', 'mes', 'periodo', 'idProducto', 'cantidad', 'idProveedor' a entero."
   ]
  },
  {
   "cell_type": "code",
   "execution_count": null,
   "metadata": {},
   "outputs": [],
   "source": [
    "cols = ['idCompra', 'año', 'mes', 'periodo', 'idProducto', 'cantidad', 'idProveedor']\n",
    "for col in cols:\n",
    "    m = ((df_compras[col].isna()) | (df_compras[col]==''))\n",
    "    df_compras.loc[ (m==False), col] = df_compras[col].astype('int')"
   ]
  },
  {
   "cell_type": "markdown",
   "metadata": {},
   "source": [
    "Seteamos en cero (0) la columna 'cantidad' donde el precio es Nulo."
   ]
  },
  {
   "cell_type": "code",
   "execution_count": null,
   "metadata": {},
   "outputs": [],
   "source": [
    "df_compras.loc[m, 'cantidad'] = 0"
   ]
  },
  {
   "cell_type": "markdown",
   "metadata": {},
   "source": [
    "## Ventas"
   ]
  },
  {
   "cell_type": "code",
   "execution_count": null,
   "metadata": {},
   "outputs": [
    {
     "data": {
      "text/html": [
       "<div>\n",
       "<style scoped>\n",
       "    .dataframe tbody tr th:only-of-type {\n",
       "        vertical-align: middle;\n",
       "    }\n",
       "\n",
       "    .dataframe tbody tr th {\n",
       "        vertical-align: top;\n",
       "    }\n",
       "\n",
       "    .dataframe thead th {\n",
       "        text-align: right;\n",
       "    }\n",
       "</style>\n",
       "<table border=\"1\" class=\"dataframe\">\n",
       "  <thead>\n",
       "    <tr style=\"text-align: right;\">\n",
       "      <th></th>\n",
       "      <th>idVenta</th>\n",
       "      <th>fechaVenta</th>\n",
       "      <th>fechaEntrega</th>\n",
       "      <th>idCanal</th>\n",
       "      <th>idCliente</th>\n",
       "      <th>idSucursal</th>\n",
       "      <th>idEmpleado</th>\n",
       "      <th>idProducto</th>\n",
       "      <th>precio</th>\n",
       "      <th>cantidad</th>\n",
       "    </tr>\n",
       "  </thead>\n",
       "  <tbody>\n",
       "    <tr>\n",
       "      <th>0</th>\n",
       "      <td>1</td>\n",
       "      <td>2018-03-09</td>\n",
       "      <td>2018-03-17</td>\n",
       "      <td>3</td>\n",
       "      <td>969</td>\n",
       "      <td>13</td>\n",
       "      <td>1674</td>\n",
       "      <td>42817</td>\n",
       "      <td>813.12</td>\n",
       "      <td>2.0</td>\n",
       "    </tr>\n",
       "    <tr>\n",
       "      <th>1</th>\n",
       "      <td>2</td>\n",
       "      <td>2018-12-28</td>\n",
       "      <td>2018-12-29</td>\n",
       "      <td>2</td>\n",
       "      <td>884</td>\n",
       "      <td>13</td>\n",
       "      <td>1674</td>\n",
       "      <td>42795</td>\n",
       "      <td>543.18</td>\n",
       "      <td>3.0</td>\n",
       "    </tr>\n",
       "    <tr>\n",
       "      <th>2</th>\n",
       "      <td>3</td>\n",
       "      <td>2016-03-28</td>\n",
       "      <td>2016-03-31</td>\n",
       "      <td>2</td>\n",
       "      <td>1722</td>\n",
       "      <td>13</td>\n",
       "      <td>1674</td>\n",
       "      <td>42837</td>\n",
       "      <td>430.32</td>\n",
       "      <td>1.0</td>\n",
       "    </tr>\n",
       "    <tr>\n",
       "      <th>3</th>\n",
       "      <td>4</td>\n",
       "      <td>2017-10-23</td>\n",
       "      <td>2017-10-24</td>\n",
       "      <td>3</td>\n",
       "      <td>2876</td>\n",
       "      <td>13</td>\n",
       "      <td>1674</td>\n",
       "      <td>42834</td>\n",
       "      <td>818.84</td>\n",
       "      <td>2.0</td>\n",
       "    </tr>\n",
       "    <tr>\n",
       "      <th>4</th>\n",
       "      <td>5</td>\n",
       "      <td>2017-11-22</td>\n",
       "      <td>2017-11-25</td>\n",
       "      <td>2</td>\n",
       "      <td>678</td>\n",
       "      <td>13</td>\n",
       "      <td>1674</td>\n",
       "      <td>42825</td>\n",
       "      <td>554.18</td>\n",
       "      <td>3.0</td>\n",
       "    </tr>\n",
       "    <tr>\n",
       "      <th>...</th>\n",
       "      <td>...</td>\n",
       "      <td>...</td>\n",
       "      <td>...</td>\n",
       "      <td>...</td>\n",
       "      <td>...</td>\n",
       "      <td>...</td>\n",
       "      <td>...</td>\n",
       "      <td>...</td>\n",
       "      <td>...</td>\n",
       "      <td>...</td>\n",
       "    </tr>\n",
       "    <tr>\n",
       "      <th>46175</th>\n",
       "      <td>47596</td>\n",
       "      <td>2020-11-30</td>\n",
       "      <td>2020-12-09</td>\n",
       "      <td>1</td>\n",
       "      <td>193</td>\n",
       "      <td>26</td>\n",
       "      <td>3032</td>\n",
       "      <td>42850</td>\n",
       "      <td>279.00</td>\n",
       "      <td>2.0</td>\n",
       "    </tr>\n",
       "    <tr>\n",
       "      <th>46176</th>\n",
       "      <td>47597</td>\n",
       "      <td>2020-11-30</td>\n",
       "      <td>2020-12-07</td>\n",
       "      <td>3</td>\n",
       "      <td>333</td>\n",
       "      <td>26</td>\n",
       "      <td>3193</td>\n",
       "      <td>42799</td>\n",
       "      <td>1536.04</td>\n",
       "      <td>2.0</td>\n",
       "    </tr>\n",
       "    <tr>\n",
       "      <th>46177</th>\n",
       "      <td>47598</td>\n",
       "      <td>2020-11-30</td>\n",
       "      <td>2020-12-07</td>\n",
       "      <td>1</td>\n",
       "      <td>2389</td>\n",
       "      <td>27</td>\n",
       "      <td>3667</td>\n",
       "      <td>42916</td>\n",
       "      <td>1356.00</td>\n",
       "      <td>2.0</td>\n",
       "    </tr>\n",
       "    <tr>\n",
       "      <th>46178</th>\n",
       "      <td>47599</td>\n",
       "      <td>2020-11-30</td>\n",
       "      <td>2020-12-04</td>\n",
       "      <td>1</td>\n",
       "      <td>1067</td>\n",
       "      <td>29</td>\n",
       "      <td>3836</td>\n",
       "      <td>42935</td>\n",
       "      <td>2456.00</td>\n",
       "      <td>1.0</td>\n",
       "    </tr>\n",
       "    <tr>\n",
       "      <th>46179</th>\n",
       "      <td>47600</td>\n",
       "      <td>2020-11-30</td>\n",
       "      <td>2020-12-06</td>\n",
       "      <td>2</td>\n",
       "      <td>932</td>\n",
       "      <td>30</td>\n",
       "      <td>3864</td>\n",
       "      <td>42836</td>\n",
       "      <td>823.24</td>\n",
       "      <td>1.0</td>\n",
       "    </tr>\n",
       "  </tbody>\n",
       "</table>\n",
       "<p>46180 rows × 10 columns</p>\n",
       "</div>"
      ],
      "text/plain": [
       "       idVenta  fechaVenta fechaEntrega  idCanal  idCliente  idSucursal  \\\n",
       "0            1  2018-03-09   2018-03-17        3        969          13   \n",
       "1            2  2018-12-28   2018-12-29        2        884          13   \n",
       "2            3  2016-03-28   2016-03-31        2       1722          13   \n",
       "3            4  2017-10-23   2017-10-24        3       2876          13   \n",
       "4            5  2017-11-22   2017-11-25        2        678          13   \n",
       "...        ...         ...          ...      ...        ...         ...   \n",
       "46175    47596  2020-11-30   2020-12-09        1        193          26   \n",
       "46176    47597  2020-11-30   2020-12-07        3        333          26   \n",
       "46177    47598  2020-11-30   2020-12-07        1       2389          27   \n",
       "46178    47599  2020-11-30   2020-12-04        1       1067          29   \n",
       "46179    47600  2020-11-30   2020-12-06        2        932          30   \n",
       "\n",
       "       idEmpleado  idProducto   precio  cantidad  \n",
       "0            1674       42817   813.12       2.0  \n",
       "1            1674       42795   543.18       3.0  \n",
       "2            1674       42837   430.32       1.0  \n",
       "3            1674       42834   818.84       2.0  \n",
       "4            1674       42825   554.18       3.0  \n",
       "...           ...         ...      ...       ...  \n",
       "46175        3032       42850   279.00       2.0  \n",
       "46176        3193       42799  1536.04       2.0  \n",
       "46177        3667       42916  1356.00       2.0  \n",
       "46178        3836       42935  2456.00       1.0  \n",
       "46179        3864       42836   823.24       1.0  \n",
       "\n",
       "[46180 rows x 10 columns]"
      ]
     },
     "execution_count": 18,
     "metadata": {},
     "output_type": "execute_result"
    }
   ],
   "source": [
    "df_ventas"
   ]
  },
  {
   "cell_type": "markdown",
   "metadata": {},
   "source": [
    "## Gastos"
   ]
  },
  {
   "cell_type": "markdown",
   "metadata": {},
   "source": [
    "## Localidades"
   ]
  },
  {
   "cell_type": "markdown",
   "metadata": {},
   "source": [
    "Normalizar Provincias"
   ]
  },
  {
   "cell_type": "code",
   "execution_count": null,
   "metadata": {},
   "outputs": [],
   "source": []
  },
  {
   "cell_type": "code",
   "execution_count": null,
   "metadata": {},
   "outputs": [],
   "source": [
    "for prov_normal in provincias_normalizadas:\n",
    "    for i, prov in enumerate(df_localidades['nombreProvincia']):\n",
    "        porc_parecido = lev.ratio(prov_normal, prov)\n",
    "        if porc_parecido > 0.50:\n",
    "            df_localidades['nombreProvincia'][i] = prov_normal"
   ]
  },
  {
   "cell_type": "code",
   "execution_count": null,
   "metadata": {},
   "outputs": [
    {
     "data": {
      "text/html": [
       "<div>\n",
       "<style scoped>\n",
       "    .dataframe tbody tr th:only-of-type {\n",
       "        vertical-align: middle;\n",
       "    }\n",
       "\n",
       "    .dataframe tbody tr th {\n",
       "        vertical-align: top;\n",
       "    }\n",
       "\n",
       "    .dataframe thead th {\n",
       "        text-align: right;\n",
       "    }\n",
       "</style>\n",
       "<table border=\"1\" class=\"dataframe\">\n",
       "  <thead>\n",
       "    <tr style=\"text-align: right;\">\n",
       "      <th></th>\n",
       "      <th>categoria</th>\n",
       "      <th>lat</th>\n",
       "      <th>lon</th>\n",
       "      <th>idDepartamento</th>\n",
       "      <th>nombreDepartamento</th>\n",
       "      <th>fuente</th>\n",
       "      <th>idLocalidad</th>\n",
       "      <th>idLocalidadCensal</th>\n",
       "      <th>nombreLocalidadCensal</th>\n",
       "      <th>idMunicipio</th>\n",
       "      <th>nombreMunicipio</th>\n",
       "      <th>nombreLocalidad</th>\n",
       "      <th>idProvincia</th>\n",
       "      <th>nombreProvincia</th>\n",
       "    </tr>\n",
       "  </thead>\n",
       "  <tbody>\n",
       "    <tr>\n",
       "      <th>0</th>\n",
       "      <td>Localidad simple</td>\n",
       "      <td>-35.033073</td>\n",
       "      <td>-60.280620</td>\n",
       "      <td>6021.0</td>\n",
       "      <td>Alberti</td>\n",
       "      <td>INDEC</td>\n",
       "      <td>6021010000</td>\n",
       "      <td>6021010</td>\n",
       "      <td>Alberti</td>\n",
       "      <td>60021.0</td>\n",
       "      <td>Alberti</td>\n",
       "      <td>ALBERTI</td>\n",
       "      <td>6</td>\n",
       "      <td>Provincia de Buenos Aires</td>\n",
       "    </tr>\n",
       "    <tr>\n",
       "      <th>1</th>\n",
       "      <td>Localidad simple</td>\n",
       "      <td>-34.868119</td>\n",
       "      <td>-60.393971</td>\n",
       "      <td>6021.0</td>\n",
       "      <td>Alberti</td>\n",
       "      <td>INDEC</td>\n",
       "      <td>6021020000</td>\n",
       "      <td>6021020</td>\n",
       "      <td>Coronel SeguÃ­</td>\n",
       "      <td>60021.0</td>\n",
       "      <td>Alberti</td>\n",
       "      <td>CORONEL SEGUI</td>\n",
       "      <td>6</td>\n",
       "      <td>Provincia de Buenos Aires</td>\n",
       "    </tr>\n",
       "    <tr>\n",
       "      <th>2</th>\n",
       "      <td>Componente de localidad compuesta</td>\n",
       "      <td>-35.068014</td>\n",
       "      <td>-60.402597</td>\n",
       "      <td>6021.0</td>\n",
       "      <td>Alberti</td>\n",
       "      <td>INDEC</td>\n",
       "      <td>6021030000</td>\n",
       "      <td>6021030</td>\n",
       "      <td>Mechita</td>\n",
       "      <td>60021.0</td>\n",
       "      <td>Alberti</td>\n",
       "      <td>MECHITA</td>\n",
       "      <td>6</td>\n",
       "      <td>Provincia de Buenos Aires</td>\n",
       "    </tr>\n",
       "    <tr>\n",
       "      <th>3</th>\n",
       "      <td>Localidad simple</td>\n",
       "      <td>-35.124382</td>\n",
       "      <td>-60.220061</td>\n",
       "      <td>6021.0</td>\n",
       "      <td>Alberti</td>\n",
       "      <td>INDEC</td>\n",
       "      <td>6021040000</td>\n",
       "      <td>6021040</td>\n",
       "      <td>Pla</td>\n",
       "      <td>60021.0</td>\n",
       "      <td>Alberti</td>\n",
       "      <td>PLA</td>\n",
       "      <td>6</td>\n",
       "      <td>Provincia de Buenos Aires</td>\n",
       "    </tr>\n",
       "    <tr>\n",
       "      <th>4</th>\n",
       "      <td>Localidad simple</td>\n",
       "      <td>-35.109618</td>\n",
       "      <td>-60.070551</td>\n",
       "      <td>6021.0</td>\n",
       "      <td>Alberti</td>\n",
       "      <td>INDEC</td>\n",
       "      <td>6021050000</td>\n",
       "      <td>6021050</td>\n",
       "      <td>Villa GrisolÃ­a</td>\n",
       "      <td>60021.0</td>\n",
       "      <td>Alberti</td>\n",
       "      <td>VILLA GRISOLIA</td>\n",
       "      <td>6</td>\n",
       "      <td>Provincia de Buenos Aires</td>\n",
       "    </tr>\n",
       "    <tr>\n",
       "      <th>...</th>\n",
       "      <td>...</td>\n",
       "      <td>...</td>\n",
       "      <td>...</td>\n",
       "      <td>...</td>\n",
       "      <td>...</td>\n",
       "      <td>...</td>\n",
       "      <td>...</td>\n",
       "      <td>...</td>\n",
       "      <td>...</td>\n",
       "      <td>...</td>\n",
       "      <td>...</td>\n",
       "      <td>...</td>\n",
       "      <td>...</td>\n",
       "      <td>...</td>\n",
       "    </tr>\n",
       "    <tr>\n",
       "      <th>4137</th>\n",
       "      <td>Localidad simple</td>\n",
       "      <td>-34.688216</td>\n",
       "      <td>-58.957430</td>\n",
       "      <td>6364.0</td>\n",
       "      <td>General RodrÃ­guez</td>\n",
       "      <td>INDEC</td>\n",
       "      <td>6364030005</td>\n",
       "      <td>6364030</td>\n",
       "      <td>General RodrÃ­guez</td>\n",
       "      <td>60364.0</td>\n",
       "      <td>General RodrÃ­guez</td>\n",
       "      <td>BARRIO RUTA 24 KILOMETRO 10</td>\n",
       "      <td>6</td>\n",
       "      <td>Provincia de Buenos Aires</td>\n",
       "    </tr>\n",
       "    <tr>\n",
       "      <th>4138</th>\n",
       "      <td>Localidad simple</td>\n",
       "      <td>-53.787047</td>\n",
       "      <td>-67.713235</td>\n",
       "      <td>94008.0</td>\n",
       "      <td>RÃ­o Grande</td>\n",
       "      <td>INDEC</td>\n",
       "      <td>94008010000</td>\n",
       "      <td>94008010</td>\n",
       "      <td>RÃ­o Grande</td>\n",
       "      <td>940007.0</td>\n",
       "      <td>RÃ­o Grande</td>\n",
       "      <td>RIO GRANDE</td>\n",
       "      <td>94</td>\n",
       "      <td>Provincia de Tierra del Fuego, Antártida e Isl...</td>\n",
       "    </tr>\n",
       "    <tr>\n",
       "      <th>4139</th>\n",
       "      <td>Localidad simple</td>\n",
       "      <td>-54.511387</td>\n",
       "      <td>-67.195804</td>\n",
       "      <td>94008.0</td>\n",
       "      <td>RÃ­o Grande</td>\n",
       "      <td>INDEC</td>\n",
       "      <td>94008020000</td>\n",
       "      <td>94008020</td>\n",
       "      <td>Tolhuin</td>\n",
       "      <td>942007.0</td>\n",
       "      <td>Tolhuin</td>\n",
       "      <td>TOLHUIN</td>\n",
       "      <td>94</td>\n",
       "      <td>Provincia de Tierra del Fuego, Antártida e Isl...</td>\n",
       "    </tr>\n",
       "    <tr>\n",
       "      <th>4140</th>\n",
       "      <td>Localidad simple</td>\n",
       "      <td>-54.637686</td>\n",
       "      <td>-67.766941</td>\n",
       "      <td>94015.0</td>\n",
       "      <td>Ushuaia</td>\n",
       "      <td>INDEC</td>\n",
       "      <td>94015010000</td>\n",
       "      <td>94015010</td>\n",
       "      <td>Laguna Escondida</td>\n",
       "      <td>NaN</td>\n",
       "      <td>NaN</td>\n",
       "      <td>LAGUNA ESCONDIDA</td>\n",
       "      <td>94</td>\n",
       "      <td>Provincia de Tierra del Fuego, Antártida e Isl...</td>\n",
       "    </tr>\n",
       "    <tr>\n",
       "      <th>4141</th>\n",
       "      <td>Localidad simple</td>\n",
       "      <td>-54.803640</td>\n",
       "      <td>-68.316062</td>\n",
       "      <td>94015.0</td>\n",
       "      <td>Ushuaia</td>\n",
       "      <td>INDEC</td>\n",
       "      <td>94015020000</td>\n",
       "      <td>94015020</td>\n",
       "      <td>Ushuaia</td>\n",
       "      <td>940014.0</td>\n",
       "      <td>Ushuaia</td>\n",
       "      <td>USHUAIA</td>\n",
       "      <td>94</td>\n",
       "      <td>Provincia de Tierra del Fuego, Antártida e Isl...</td>\n",
       "    </tr>\n",
       "  </tbody>\n",
       "</table>\n",
       "<p>4142 rows × 14 columns</p>\n",
       "</div>"
      ],
      "text/plain": [
       "                              categoria        lat        lon  idDepartamento  \\\n",
       "0                      Localidad simple -35.033073 -60.280620          6021.0   \n",
       "1                      Localidad simple -34.868119 -60.393971          6021.0   \n",
       "2     Componente de localidad compuesta -35.068014 -60.402597          6021.0   \n",
       "3                      Localidad simple -35.124382 -60.220061          6021.0   \n",
       "4                      Localidad simple -35.109618 -60.070551          6021.0   \n",
       "...                                 ...        ...        ...             ...   \n",
       "4137                   Localidad simple -34.688216 -58.957430          6364.0   \n",
       "4138                   Localidad simple -53.787047 -67.713235         94008.0   \n",
       "4139                   Localidad simple -54.511387 -67.195804         94008.0   \n",
       "4140                   Localidad simple -54.637686 -67.766941         94015.0   \n",
       "4141                   Localidad simple -54.803640 -68.316062         94015.0   \n",
       "\n",
       "      nombreDepartamento fuente  idLocalidad  idLocalidadCensal  \\\n",
       "0                Alberti  INDEC   6021010000            6021010   \n",
       "1                Alberti  INDEC   6021020000            6021020   \n",
       "2                Alberti  INDEC   6021030000            6021030   \n",
       "3                Alberti  INDEC   6021040000            6021040   \n",
       "4                Alberti  INDEC   6021050000            6021050   \n",
       "...                  ...    ...          ...                ...   \n",
       "4137  General RodrÃ­guez  INDEC   6364030005            6364030   \n",
       "4138         RÃ­o Grande  INDEC  94008010000           94008010   \n",
       "4139         RÃ­o Grande  INDEC  94008020000           94008020   \n",
       "4140             Ushuaia  INDEC  94015010000           94015010   \n",
       "4141             Ushuaia  INDEC  94015020000           94015020   \n",
       "\n",
       "     nombreLocalidadCensal  idMunicipio     nombreMunicipio  \\\n",
       "0                  Alberti      60021.0             Alberti   \n",
       "1           Coronel SeguÃ­      60021.0             Alberti   \n",
       "2                  Mechita      60021.0             Alberti   \n",
       "3                      Pla      60021.0             Alberti   \n",
       "4          Villa GrisolÃ­a      60021.0             Alberti   \n",
       "...                    ...          ...                 ...   \n",
       "4137    General RodrÃ­guez      60364.0  General RodrÃ­guez   \n",
       "4138           RÃ­o Grande     940007.0         RÃ­o Grande   \n",
       "4139               Tolhuin     942007.0             Tolhuin   \n",
       "4140      Laguna Escondida          NaN                 NaN   \n",
       "4141               Ushuaia     940014.0             Ushuaia   \n",
       "\n",
       "                  nombreLocalidad  idProvincia  \\\n",
       "0                         ALBERTI            6   \n",
       "1                   CORONEL SEGUI            6   \n",
       "2                         MECHITA            6   \n",
       "3                             PLA            6   \n",
       "4                  VILLA GRISOLIA            6   \n",
       "...                           ...          ...   \n",
       "4137  BARRIO RUTA 24 KILOMETRO 10            6   \n",
       "4138                   RIO GRANDE           94   \n",
       "4139                      TOLHUIN           94   \n",
       "4140             LAGUNA ESCONDIDA           94   \n",
       "4141                      USHUAIA           94   \n",
       "\n",
       "                                        nombreProvincia  \n",
       "0                             Provincia de Buenos Aires  \n",
       "1                             Provincia de Buenos Aires  \n",
       "2                             Provincia de Buenos Aires  \n",
       "3                             Provincia de Buenos Aires  \n",
       "4                             Provincia de Buenos Aires  \n",
       "...                                                 ...  \n",
       "4137                          Provincia de Buenos Aires  \n",
       "4138  Provincia de Tierra del Fuego, Antártida e Isl...  \n",
       "4139  Provincia de Tierra del Fuego, Antártida e Isl...  \n",
       "4140  Provincia de Tierra del Fuego, Antártida e Isl...  \n",
       "4141  Provincia de Tierra del Fuego, Antártida e Isl...  \n",
       "\n",
       "[4142 rows x 14 columns]"
      ]
     },
     "execution_count": 38,
     "metadata": {},
     "output_type": "execute_result"
    }
   ],
   "source": [
    "df_localidades"
   ]
  }
 ],
 "metadata": {
  "kernelspec": {
   "display_name": "Python 3.10.5 64-bit (windows store)",
   "language": "python",
   "name": "python3"
  },
  "language_info": {
   "codemirror_mode": {
    "name": "ipython",
    "version": 3
   },
   "file_extension": ".py",
   "mimetype": "text/x-python",
   "name": "python",
   "nbconvert_exporter": "python",
   "pygments_lexer": "ipython3",
   "version": "3.10.5"
  },
  "orig_nbformat": 4,
  "vscode": {
   "interpreter": {
    "hash": "1ef47f4165116b14d53321dc99b29d4e9c72347c275033ccf951af3c7befa3a1"
   }
  }
 },
 "nbformat": 4,
 "nbformat_minor": 2
}
