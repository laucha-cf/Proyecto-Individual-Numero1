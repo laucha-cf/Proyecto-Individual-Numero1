{
 "cells": [
  {
   "cell_type": "code",
   "execution_count": 1,
   "metadata": {},
   "outputs": [],
   "source": [
    "import numpy as np\n",
    "import pandas as pd\n",
    "import matplotlib.pyplot as plt\n",
    "import seaborn as sns\n",
    "sns.set()"
   ]
  },
  {
   "cell_type": "code",
   "execution_count": 8,
   "metadata": {},
   "outputs": [],
   "source": [
    "dataset_names = ['Clientes', 'Compra', 'Gasto', 'Localidades','Proveedores', 'Sucursales', 'Venta']"
   ]
  },
  {
   "cell_type": "code",
   "execution_count": 9,
   "metadata": {},
   "outputs": [],
   "source": [
    "#Levantamos los datasets en crudo (archivos .csv)\n",
    "df_clientes     =pd.read_csv('../Datasets/Clientes.csv'   , encoding='latin-1', sep=';')\n",
    "df_compras      =pd.read_csv('../Datasets/Compra.csv'     , encoding='latin-1', sep=',')\n",
    "df_gastos       =pd.read_csv('../Datasets/Gasto.csv'      , encoding='latin-1', sep=',')\n",
    "df_localidades  =pd.read_csv('../Datasets/Localidades.csv', encoding='latin-1', sep=',')\n",
    "df_proveedores  =pd.read_csv('../Datasets/Proveedores.csv', encoding='latin-1', sep=',')\n",
    "df_sucursales   =pd.read_csv('../Datasets/Sucursales.csv' , encoding='latin-1', sep=';')\n",
    "df_ventas       =pd.read_csv('../Datasets/Venta.csv'      , encoding='latin-1', sep=',')\n",
    "df_canalventa   =pd.read_excel('../Datasets/CanalDeVenta.xlsx')\n",
    "df_tipogasto    =pd.read_csv('../Datasets/TiposDeGasto.csv', encoding='latin-1', sep=',')"
   ]
  },
  {
   "cell_type": "code",
   "execution_count": 10,
   "metadata": {},
   "outputs": [
    {
     "data": {
      "text/html": [
       "<div>\n",
       "<style scoped>\n",
       "    .dataframe tbody tr th:only-of-type {\n",
       "        vertical-align: middle;\n",
       "    }\n",
       "\n",
       "    .dataframe tbody tr th {\n",
       "        vertical-align: top;\n",
       "    }\n",
       "\n",
       "    .dataframe thead th {\n",
       "        text-align: right;\n",
       "    }\n",
       "</style>\n",
       "<table border=\"1\" class=\"dataframe\">\n",
       "  <thead>\n",
       "    <tr style=\"text-align: right;\">\n",
       "      <th></th>\n",
       "      <th>CODIGO</th>\n",
       "      <th>DESCRIPCION</th>\n",
       "    </tr>\n",
       "  </thead>\n",
       "  <tbody>\n",
       "    <tr>\n",
       "      <th>0</th>\n",
       "      <td>1</td>\n",
       "      <td>Telefónica</td>\n",
       "    </tr>\n",
       "    <tr>\n",
       "      <th>1</th>\n",
       "      <td>2</td>\n",
       "      <td>OnLine</td>\n",
       "    </tr>\n",
       "    <tr>\n",
       "      <th>2</th>\n",
       "      <td>3</td>\n",
       "      <td>Presencial</td>\n",
       "    </tr>\n",
       "  </tbody>\n",
       "</table>\n",
       "</div>"
      ],
      "text/plain": [
       "   CODIGO DESCRIPCION\n",
       "0       1  Telefónica\n",
       "1       2      OnLine\n",
       "2       3  Presencial"
      ]
     },
     "execution_count": 10,
     "metadata": {},
     "output_type": "execute_result"
    }
   ],
   "source": [
    "df_canalventa.head(3)"
   ]
  },
  {
   "cell_type": "code",
   "execution_count": 11,
   "metadata": {},
   "outputs": [
    {
     "name": "stdout",
     "output_type": "stream",
     "text": [
      "<class 'pandas.core.frame.DataFrame'>\n",
      "RangeIndex: 3 entries, 0 to 2\n",
      "Data columns (total 2 columns):\n",
      " #   Column       Non-Null Count  Dtype \n",
      "---  ------       --------------  ----- \n",
      " 0   CODIGO       3 non-null      int64 \n",
      " 1   DESCRIPCION  3 non-null      object\n",
      "dtypes: int64(1), object(1)\n",
      "memory usage: 176.0+ bytes\n",
      "None\n"
     ]
    }
   ],
   "source": [
    "print(df_canalventa.info())"
   ]
  },
  {
   "cell_type": "markdown",
   "metadata": {},
   "source": []
  },
  {
   "cell_type": "markdown",
   "metadata": {},
   "source": []
  },
  {
   "cell_type": "markdown",
   "metadata": {},
   "source": []
  },
  {
   "cell_type": "markdown",
   "metadata": {},
   "source": []
  },
  {
   "cell_type": "markdown",
   "metadata": {},
   "source": []
  },
  {
   "cell_type": "markdown",
   "metadata": {},
   "source": []
  },
  {
   "cell_type": "markdown",
   "metadata": {},
   "source": [
    "Renombrando columnas"
   ]
  },
  {
   "cell_type": "code",
   "execution_count": null,
   "metadata": {},
   "outputs": [],
   "source": [
    "#Clientes\n",
    "columnas_nuevas = ['provincia', 'nom_y_ape', 'domicilio', 'tel', 'edad', 'localidad', 'lat', 'long', 'col10']\n",
    "df_clientes.columns = columnas_nuevas\n",
    "\n",
    "#Compras\n",
    "columnas_nuevas = ['fecha', 'año', 'mes', 'periodo', 'idProducto','cantidad', 'precio', 'idProveedor']\n",
    "df_compras.columns = columnas_nuevas\n",
    "\n",
    "#Gastos\n",
    "columnas_nuevas = ['idSucursal', 'idTipoGasto', 'fecha', 'monto']\n",
    "df_gastos.columns = columnas_nuevas\n",
    "\n",
    "#Localidades\n",
    "columnas_nuevas = ['categoria','lat','lon','idDepartamento','nombreDepartamento','fuente','idLocalidadCensal','nombreLocalidadCensal','idMunicipio','nombreMunicipio','nombreLocalidad','idProvincia','nombreProvincia']\n",
    "df_localidades.columns = columnas_nuevas\n",
    "\n",
    "#Proveedores\n",
    "columnas_nuevas = ['nombre', 'direccion', 'ciudad', 'estado', 'pais', 'departamento']\n",
    "df_proveedores.columns = columnas_nuevas\n",
    "\n",
    "#Sucursales\n",
    "columnas_nuevas = ['sucursal', 'direccion', 'localidad', 'provincia', 'lat', 'long']\n",
    "df_sucursales.columns = columnas_nuevas\n",
    "\n",
    "#Ventas\n",
    "columnas_nuevas = ['fechaVenta','fechaEntrega','idCanal','idCliente','idSucursal','idEmpleado','idProducto','precio','cantidad']\n",
    "df_ventas.columns = columnas_nuevas"
   ]
  },
  {
   "cell_type": "markdown",
   "metadata": {},
   "source": [
    "Renombrando indices"
   ]
  },
  {
   "cell_type": "code",
   "execution_count": null,
   "metadata": {},
   "outputs": [],
   "source": [
    "df_clientes.index.name = 'idCliente'\n",
    "df_compras.index.name = 'idCompra'\n",
    "df_gastos.index.name = 'idGasto'\n",
    "df_localidades.index.name = 'idLocalidad'\n",
    "df_proveedores.index.name = 'idProveedor'\n",
    "df_sucursales.index.name = 'idSucursal'\n",
    "df_ventas.index.name = 'idVenta'"
   ]
  }
 ],
 "metadata": {
  "kernelspec": {
   "display_name": "Python 3.10.5 64-bit (windows store)",
   "language": "python",
   "name": "python3"
  },
  "language_info": {
   "codemirror_mode": {
    "name": "ipython",
    "version": 3
   },
   "file_extension": ".py",
   "mimetype": "text/x-python",
   "name": "python",
   "nbconvert_exporter": "python",
   "pygments_lexer": "ipython3",
   "version": "3.10.5"
  },
  "orig_nbformat": 4,
  "vscode": {
   "interpreter": {
    "hash": "1ef47f4165116b14d53321dc99b29d4e9c72347c275033ccf951af3c7befa3a1"
   }
  }
 },
 "nbformat": 4,
 "nbformat_minor": 2
}
