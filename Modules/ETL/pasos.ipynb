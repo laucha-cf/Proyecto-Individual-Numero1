{
 "cells": [
  {
   "cell_type": "code",
   "execution_count": 1,
   "metadata": {},
   "outputs": [],
   "source": [
    "import numpy as np\n",
    "import pandas as pd\n",
    "import matplotlib.pyplot as plt\n",
    "import seaborn as sns\n",
    "sns.set()"
   ]
  },
  {
   "cell_type": "code",
   "execution_count": 4,
   "metadata": {},
   "outputs": [],
   "source": [
    "dataset_names = ['Clientes', 'Compra', 'Gasto', 'Localidades','Proveedores', 'Sucursales', 'Venta']"
   ]
  },
  {
   "cell_type": "code",
   "execution_count": 5,
   "metadata": {},
   "outputs": [],
   "source": [
    "#Levantamos los datasets en crudo (archivos .csv)\n",
    "df_clientes     =pd.read_csv('../Datasets/Clientes.csv'   , encoding='latin-1', sep=';')\n",
    "df_compras      =pd.read_csv('../Datasets/Compra.csv'     , encoding='latin-1', sep=',')\n",
    "df_gastos       =pd.read_csv('../Datasets/Gasto.csv'      , encoding='latin-1', sep=',')\n",
    "df_localidades  =pd.read_csv('../Datasets/Localidades.csv', encoding='latin-1', sep=',')\n",
    "df_proveedores  =pd.read_csv('../Datasets/Proveedores.csv', encoding='latin-1', sep=',')\n",
    "df_sucursales   =pd.read_csv('../Datasets/Sucursales.csv' , encoding='latin-1', sep=';')\n",
    "df_ventas       =pd.read_csv('../Datasets/Venta.csv'      , encoding='latin-1', sep=',')"
   ]
  },
  {
   "cell_type": "code",
   "execution_count": 10,
   "metadata": {},
   "outputs": [
    {
     "data": {
      "text/html": [
       "<div>\n",
       "<style scoped>\n",
       "    .dataframe tbody tr th:only-of-type {\n",
       "        vertical-align: middle;\n",
       "    }\n",
       "\n",
       "    .dataframe tbody tr th {\n",
       "        vertical-align: top;\n",
       "    }\n",
       "\n",
       "    .dataframe thead th {\n",
       "        text-align: right;\n",
       "    }\n",
       "</style>\n",
       "<table border=\"1\" class=\"dataframe\">\n",
       "  <thead>\n",
       "    <tr style=\"text-align: right;\">\n",
       "      <th></th>\n",
       "      <th>ID</th>\n",
       "      <th>Provincia</th>\n",
       "      <th>Nombre_y_Apellido</th>\n",
       "      <th>Domicilio</th>\n",
       "      <th>Telefono</th>\n",
       "      <th>Edad</th>\n",
       "      <th>Localidad</th>\n",
       "      <th>X</th>\n",
       "      <th>Y</th>\n",
       "      <th>col10</th>\n",
       "    </tr>\n",
       "  </thead>\n",
       "  <tbody>\n",
       "    <tr>\n",
       "      <th>0</th>\n",
       "      <td>1</td>\n",
       "      <td>Buenos Aires</td>\n",
       "      <td>HEBER JONI SANTANA</td>\n",
       "      <td>LAS HERAS Y BAT. 24 DE FEBRERO 4150  RINCON DE...</td>\n",
       "      <td>42-5161</td>\n",
       "      <td>58</td>\n",
       "      <td>LOMA VERDE</td>\n",
       "      <td>-58,81850307</td>\n",
       "      <td>-34,30997088</td>\n",
       "      <td>NaN</td>\n",
       "    </tr>\n",
       "  </tbody>\n",
       "</table>\n",
       "</div>"
      ],
      "text/plain": [
       "   ID     Provincia   Nombre_y_Apellido  \\\n",
       "0   1  Buenos Aires  HEBER JONI SANTANA   \n",
       "\n",
       "                                           Domicilio Telefono  Edad  \\\n",
       "0  LAS HERAS Y BAT. 24 DE FEBRERO 4150  RINCON DE...  42-5161    58   \n",
       "\n",
       "    Localidad             X             Y  col10  \n",
       "0  LOMA VERDE  -58,81850307  -34,30997088    NaN  "
      ]
     },
     "execution_count": 10,
     "metadata": {},
     "output_type": "execute_result"
    }
   ],
   "source": [
    "df_clientes.head(1)"
   ]
  },
  {
   "cell_type": "code",
   "execution_count": 9,
   "metadata": {},
   "outputs": [
    {
     "name": "stdout",
     "output_type": "stream",
     "text": [
      "<class 'pandas.core.frame.DataFrame'>\n",
      "RangeIndex: 2672 entries, 0 to 2671\n",
      "Data columns (total 10 columns):\n",
      " #   Column             Non-Null Count  Dtype  \n",
      "---  ------             --------------  -----  \n",
      " 0   ID                 2672 non-null   int64  \n",
      " 1   Provincia          2647 non-null   object \n",
      " 2   Nombre_y_Apellido  2648 non-null   object \n",
      " 3   Domicilio          2630 non-null   object \n",
      " 4   Telefono           2637 non-null   object \n",
      " 5   Edad               2672 non-null   int64  \n",
      " 6   Localidad          2647 non-null   object \n",
      " 7   X                  2616 non-null   object \n",
      " 8   Y                  2618 non-null   object \n",
      " 9   col10              0 non-null      float64\n",
      "dtypes: float64(1), int64(2), object(7)\n",
      "memory usage: 208.9+ KB\n",
      "None\n"
     ]
    }
   ],
   "source": [
    "print(df_clientes.info())"
   ]
  },
  {
   "cell_type": "markdown",
   "metadata": {},
   "source": []
  },
  {
   "cell_type": "markdown",
   "metadata": {},
   "source": []
  },
  {
   "cell_type": "markdown",
   "metadata": {},
   "source": []
  },
  {
   "cell_type": "markdown",
   "metadata": {},
   "source": []
  },
  {
   "cell_type": "markdown",
   "metadata": {},
   "source": []
  },
  {
   "cell_type": "markdown",
   "metadata": {},
   "source": []
  },
  {
   "cell_type": "markdown",
   "metadata": {},
   "source": [
    "Renombrando columnas"
   ]
  },
  {
   "cell_type": "code",
   "execution_count": null,
   "metadata": {},
   "outputs": [],
   "source": [
    "#Clientes\n",
    "columnas_nuevas = ['provincia', 'nom_y_ape', 'domicilio', 'tel', 'edad', 'localidad', 'lat', 'long', 'col10']\n",
    "df_clientes.columns = columnas_nuevas\n",
    "\n",
    "#Compras\n",
    "columnas_nuevas = ['fecha', 'año', 'mes', 'periodo', 'idProducto','cantidad', 'precio', 'idProveedor']\n",
    "df_compras.columns = columnas_nuevas\n",
    "\n",
    "#Gastos\n",
    "columnas_nuevas = ['idSucursal', 'idTipoGasto', 'fecha', 'monto']\n",
    "df_gastos.columns = columnas_nuevas\n",
    "\n",
    "#Localidades\n",
    "columnas_nuevas = ['categoria','lat','lon','idDepartamento','nombreDepartamento','fuente','idLocalidadCensal','nombreLocalidadCensal','idMunicipio','nombreMunicipio','nombreLocalidad','idProvincia','nombreProvincia']\n",
    "df_localidades.columns = columnas_nuevas\n",
    "\n",
    "#Proveedores\n",
    "columnas_nuevas = ['nombre', 'direccion', 'ciudad', 'estado', 'pais', 'departamento']\n",
    "df_proveedores.columns = columnas_nuevas\n",
    "\n",
    "#Sucursales\n",
    "columnas_nuevas = ['sucursal', 'direccion', 'localidad', 'provincia', 'lat', 'long']\n",
    "df_sucursales.columns = columnas_nuevas\n",
    "\n",
    "#Ventas\n",
    "columnas_nuevas = ['fechaVenta','fechaEntrega','idCanal','idCliente','idSucursal','idEmpleado','idProducto','precio','cantidad']\n",
    "df_ventas.columns = columnas_nuevas"
   ]
  },
  {
   "cell_type": "markdown",
   "metadata": {},
   "source": [
    "Renombrando indices"
   ]
  },
  {
   "cell_type": "code",
   "execution_count": null,
   "metadata": {},
   "outputs": [],
   "source": [
    "df_clientes.index.name = 'idCliente'\n",
    "df_compras.index.name = 'idCompra'\n",
    "df_gastos.index.name = 'idGasto'\n",
    "df_localidades.index.name = 'idLocalidad'\n",
    "df_proveedores.index.name = 'idProveedor'\n",
    "df_sucursales.index.name = 'idSucursal'\n",
    "df_ventas.index.name = 'idVenta'"
   ]
  }
 ],
 "metadata": {
  "kernelspec": {
   "display_name": "Python 3.10.2 64-bit",
   "language": "python",
   "name": "python3"
  },
  "language_info": {
   "codemirror_mode": {
    "name": "ipython",
    "version": 3
   },
   "file_extension": ".py",
   "mimetype": "text/x-python",
   "name": "python",
   "nbconvert_exporter": "python",
   "pygments_lexer": "ipython3",
   "version": "3.10.2"
  },
  "orig_nbformat": 4,
  "vscode": {
   "interpreter": {
    "hash": "510428449cbd3844e45262579cff7aa82d8d47f02b4035bfe069ac1b7e46235d"
   }
  }
 },
 "nbformat": 4,
 "nbformat_minor": 2
}
