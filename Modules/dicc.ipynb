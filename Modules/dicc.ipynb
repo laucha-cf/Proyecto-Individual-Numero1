{
 "cells": [
  {
   "cell_type": "markdown",
   "metadata": {},
   "source": [
    "## Diccionarios de Datos"
   ]
  },
  {
   "cell_type": "markdown",
   "metadata": {},
   "source": [
    "### Clientes\n",
    "`idCliente` (entero): Número unívoco que identifica cada cliente.<br>\n",
    "`provincia` (string): Nombre de la provincia donde reside el cliente.<br>\n",
    "`nom_y_ape` (string): Nombre y Apellido del cliente.<br>\n",
    "`domicilio` (alfanumérico): Dirección particular del cliente.<br>\n",
    "`tel`(alfanumérico): Número de teléfono del cliente. Fijo o móvil.<br>\n",
    "`edad`(entero): Edad del cliente.<br>\n",
    "`localidad`(string): Nombre de la localidad donde reside el cliente.<br>\n",
    "`lat`(entero): Latitud del lugar donde reside el cliente.<br>\n",
    "`long`(entero): Longitud del lugar donde reside el cliente.<br>"
   ]
  },
  {
   "cell_type": "markdown",
   "metadata": {},
   "source": [
    "### Compras\n",
    "`idCompra` (entero): Número unívoco que identifica cada compra.<br>\n",
    "`fecha` (date): Fecha en la que se generó la compra.<br>\n",
    "`año` (entero): Año en el que se generó la compra.<br>\n",
    "`mes` (entero): Mes en el que se generó la compra.<br>\n",
    "`periodo`(entero): Periodo en el que se generó la compra.<br>\n",
    "`idProducto`(entero): Número unívoco que identifica cada producto.<br>\n",
    "`cantidad`(entero): Cantidad de productos involucrados en la compra.<br>\n",
    "`precio`(decimal): Precio de la compra.<br>\n",
    "`idProveedor`(entero): Número unívoco que identifica cada proveedor.<br>"
   ]
  },
  {
   "cell_type": "markdown",
   "metadata": {},
   "source": [
    "### Gastos\n",
    "`idGasto` (entero): Número unívoco que identifica cada gasto.<br>\n",
    "`idSucursal` (entero): Número unívoco que identifica cada sucursal.<br>\n",
    "`idTipoGasto` (entero): Número unívoco que identifica cada tipo de gasto.<br>\n",
    "`fecha` (date): Fecha en la que se generó el gasto.<br>\n",
    "`monto`(decimal): Monto del gasto."
   ]
  },
  {
   "cell_type": "markdown",
   "metadata": {},
   "source": [
    "### Localidades\n",
    "`categoria` (string): Nombre de la categoría.<br>\n",
    "`lat`(entero): Latitud del lugar donde se encuentra la localidad.<br>\n",
    "`long`(entero): Longitud del lugar donde se encuentra la localidad.<br>\n",
    "`idDepto` (entero): Número unívoco que identifica cada departamento.<br>\n",
    "`nombreDepto`(string): Nombre que identifica el departamento.<br>\n",
    "`fuente`(string): Fuente de donde proviene la información.<br>\n",
    "`idLocalidad`(entero): Número unívoco que identifica cada localidad.<br>\n",
    "`idLocalidadCensal`(entero): Número unívoco que identifica cada localidad censal.<br>\n",
    "`nombreLocalidadCensal`(string): Precio de la compra.<br>\n",
    "`idMunicipio`(entero): Número unívoco que identifica cada municipio.<br>\n",
    "`nombreMunicipio`(string): Nombre de cada municipio.<br>\n",
    "`nombreLocalidad`(string): Nombre de cada localidad.<br>\n",
    "`idProvincia`(entero): Número unívoco que identifica cada provincia.<br>\n",
    "`nombreProvincia`(string): Nombre de la provincia."
   ]
  },
  {
   "cell_type": "markdown",
   "metadata": {},
   "source": [
    "### Proveedores\n",
    "`idProveedor` (entero): Número unívoco que identifica cada proveedor.<br>\n",
    "`nombre` (string): Nombre del proveedor.<br>\n",
    "`direccion` (alfanumérico): Dirección del proveedor.<br>\n",
    "`ciudad` (string): Ciudad del proveedor.<br>\n",
    "`estado`(string): Estado del proveedor.<br>\n",
    "`pais`(string): País del proveedor.<br>\n",
    "`departamento`(string): Departamento del proveedor.<br>"
   ]
  },
  {
   "cell_type": "markdown",
   "metadata": {},
   "source": [
    "     ID        int64 \n",
    " 1   Sucursal  object\n",
    " 2   Direccion object\n",
    " 3   Localidad object\n",
    " 4   Provincia object\n",
    " 5   Latitud   object\n",
    " 6   Longitud  object"
   ]
  },
  {
   "cell_type": "markdown",
   "metadata": {},
   "source": [
    "### Sucursales\n",
    "`idSucursal` (entero): Número unívoco que identifica cada sucursal.<br>\n",
    "`sucursal` (string): Nombre de la sucursal.<br>\n",
    "`direccion` (alfanumérico): Dirección de la sucursal.<br>\n",
    "`localidad` (string): Localidad de la sucursal.<br>\n",
    "`provincia`(string): Provincia de la sucursal.<br>\n",
    "`lat`(entero): Latitud de la sucursal.<br>\n",
    "`long`(entero): Longitud de la sucursal.<br>"
   ]
  },
  {
   "cell_type": "markdown",
   "metadata": {},
   "source": [
    "### Ventas\n",
    "`idVenta` (entero): Número unívoco que identifica cada venta.<br>\n",
    "`fechaVenta` (date): Fecha en la que se generó la venta.<br>\n",
    "`fechaEntrega` (date): Año en el que se entregó el producto.<br>\n",
    "`idCanal` (entero): Número unívoco que identifica cada canal de venta.<br>\n",
    "`idCliente`(entero): Número unívoco que identifica cada cliente.<br>\n",
    "`idSucursal`(entero): Número unívoco que identifica cada sucursal.<br>\n",
    "`idEmpleado`(entero): Número unívoco que identifica cada empleado.<br>\n",
    "`idProducto`(entero): Número unívoco que identifica cada producto.<br>\n",
    "`precio`(decimal): Precio de la venta.<br>\n",
    "`cantidad`(entero): Cantidad de productos de la venta."
   ]
  }
 ],
 "metadata": {
  "language_info": {
   "name": "python"
  },
  "orig_nbformat": 4
 },
 "nbformat": 4,
 "nbformat_minor": 2
}
