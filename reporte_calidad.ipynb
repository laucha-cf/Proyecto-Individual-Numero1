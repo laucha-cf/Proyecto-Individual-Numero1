{
 "cells": [
  {
   "cell_type": "code",
   "execution_count": 3,
   "metadata": {},
   "outputs": [],
   "source": [
    "import pandas as pd\n",
    "import numpy as np\n",
    "import matplotlib.pyplot as plt\n",
    "import seaborn as sns"
   ]
  },
  {
   "cell_type": "markdown",
   "metadata": {},
   "source": [
    "## Análisis Preliminar de Datos"
   ]
  },
  {
   "cell_type": "markdown",
   "metadata": {},
   "source": [
    "Antes de levantar los archivos, cambiamos su atributo `encoding` a `utf-8`. <br>\n",
    "Luego elegimos el encoding (puede ser ANSI o Latin-1, por el momento, debido a las tildes)."
   ]
  },
  {
   "cell_type": "code",
   "execution_count": 4,
   "metadata": {},
   "outputs": [],
   "source": [
    "#Levantamos los datasets en crudo (archivos .csv)\n",
    "df_clientes     =pd.read_csv('./Modules/Datasets/Clientes.csv'    , encoding='latin-1', sep=';')\n",
    "df_compras      =pd.read_csv('./Modules/Datasets/Compra.csv'      , encoding='latin-1', sep=',')\n",
    "df_gastos       =pd.read_csv('./Modules/Datasets/Gasto.csv'       , encoding='latin-1', sep=',')\n",
    "df_localidades  =pd.read_csv('./Modules/Datasets/Localidades.csv' , encoding='latin-1', sep=',')\n",
    "df_proveedores  =pd.read_csv('./Modules/Datasets/Proveedores.csv' , encoding='latin-1', sep=',')\n",
    "df_sucursales   =pd.read_csv('./Modules/Datasets/Sucursales.csv'  , encoding='latin-1', sep=';')\n",
    "df_ventas       =pd.read_csv('./Modules/Datasets/Venta.csv'       , encoding='latin-1', sep=',')\n",
    "df_canalventa   =pd.read_excel('./Modules/Datasets/CanalDeVenta.xlsx')\n",
    "df_tipogasto    =pd.read_csv('./Modules/Datasets/TiposDeGasto.csv', encoding='latin-1', sep=',')"
   ]
  },
  {
   "cell_type": "markdown",
   "metadata": {},
   "source": [
    "Las columnas están nombradas sin seguir ninguna regla. Algunas en mayúsculas, otras en minúsculas, con `camelcase` u otro tipo de separación entre palabras, cómo la separación mediante `underscore`.\n",
    "Además,ciertos nombres no son lo suficientemente descriptivos para brindarnos la información necesaria sobre lo que contiene la columna.<br>\n",
    "Este mismo invonveniente tenemos en el contenido de ciertas columnas. Los datos no siguen un estándar de escritura."
   ]
  },
  {
   "cell_type": "markdown",
   "metadata": {},
   "source": [
    "Mencionamos algunas incongruencias en el dataset **Clientes.csv**\n",
    "- Que es X o Y? No sabemos a que hace referencia.\n",
    "- ID en mayúsculas y el resto de columnas capitalizadas.\n",
    "- El domicilio se carga en mayúsculas?."
   ]
  },
  {
   "cell_type": "code",
   "execution_count": 3,
   "metadata": {},
   "outputs": [
    {
     "data": {
      "text/html": [
       "<div>\n",
       "<style scoped>\n",
       "    .dataframe tbody tr th:only-of-type {\n",
       "        vertical-align: middle;\n",
       "    }\n",
       "\n",
       "    .dataframe tbody tr th {\n",
       "        vertical-align: top;\n",
       "    }\n",
       "\n",
       "    .dataframe thead th {\n",
       "        text-align: right;\n",
       "    }\n",
       "</style>\n",
       "<table border=\"1\" class=\"dataframe\">\n",
       "  <thead>\n",
       "    <tr style=\"text-align: right;\">\n",
       "      <th></th>\n",
       "      <th>ID</th>\n",
       "      <th>Provincia</th>\n",
       "      <th>Nombre_y_Apellido</th>\n",
       "      <th>Domicilio</th>\n",
       "      <th>Telefono</th>\n",
       "      <th>Edad</th>\n",
       "      <th>Localidad</th>\n",
       "      <th>X</th>\n",
       "      <th>Y</th>\n",
       "      <th>col10</th>\n",
       "    </tr>\n",
       "  </thead>\n",
       "  <tbody>\n",
       "    <tr>\n",
       "      <th>0</th>\n",
       "      <td>1</td>\n",
       "      <td>Buenos Aires</td>\n",
       "      <td>HEBER JONI SANTANA</td>\n",
       "      <td>LAS HERAS Y BAT. 24 DE FEBRERO 4150  RINCON DE...</td>\n",
       "      <td>42-5161</td>\n",
       "      <td>58.0</td>\n",
       "      <td>LOMA VERDE</td>\n",
       "      <td>-58,81850307</td>\n",
       "      <td>-34,30997088</td>\n",
       "      <td>NaN</td>\n",
       "    </tr>\n",
       "  </tbody>\n",
       "</table>\n",
       "</div>"
      ],
      "text/plain": [
       "   ID     Provincia   Nombre_y_Apellido  \\\n",
       "0   1  Buenos Aires  HEBER JONI SANTANA   \n",
       "\n",
       "                                           Domicilio Telefono  Edad  \\\n",
       "0  LAS HERAS Y BAT. 24 DE FEBRERO 4150  RINCON DE...  42-5161  58.0   \n",
       "\n",
       "    Localidad             X             Y  col10  \n",
       "0  LOMA VERDE  -58,81850307  -34,30997088    NaN  "
      ]
     },
     "execution_count": 3,
     "metadata": {},
     "output_type": "execute_result"
    }
   ],
   "source": [
    "#Vemos las incongruencias en un solo registro...\n",
    "df_clientes.head(1)"
   ]
  },
  {
   "cell_type": "markdown",
   "metadata": {},
   "source": [
    "No existe una `normalización` con respecto a los datos insertados. Es decir, nos encontramos con diversas maneras de referir al mismo dato. <br>\n",
    "Tomamos el ejemplo concreto de la tabla **Sucursales.csv**. Al ingresar el nombre de una Provincia, se debe determinar la manera correcta de ingestarlo, y ese marco debe ser respetado en las futuras ingestas. <br>\n",
    "¿De cuantas maneras distintas se puede escribir un mismo dato? No es algo que busquemos saber.\n",
    "En su lugar, determinemos, por ejemplo: a partir de ahora Buenos Aires se debe incertar de la \n",
    "siguiente manera -> `'Ciudad de Buenos Aires'`. Siempre así, no se aceptan variaciones.\n",
    "Para evitar tener que lidiar con 'Bs. As', 'Buenos Aires', 'C. de Buenos Aires', etc etc"
   ]
  },
  {
   "cell_type": "code",
   "execution_count": 4,
   "metadata": {},
   "outputs": [
    {
     "data": {
      "text/html": [
       "<div>\n",
       "<style scoped>\n",
       "    .dataframe tbody tr th:only-of-type {\n",
       "        vertical-align: middle;\n",
       "    }\n",
       "\n",
       "    .dataframe tbody tr th {\n",
       "        vertical-align: top;\n",
       "    }\n",
       "\n",
       "    .dataframe thead th {\n",
       "        text-align: right;\n",
       "    }\n",
       "</style>\n",
       "<table border=\"1\" class=\"dataframe\">\n",
       "  <thead>\n",
       "    <tr style=\"text-align: right;\">\n",
       "      <th></th>\n",
       "      <th>ï»¿ID</th>\n",
       "      <th>Sucursal</th>\n",
       "      <th>Direccion</th>\n",
       "      <th>Localidad</th>\n",
       "      <th>Provincia</th>\n",
       "      <th>Latitud</th>\n",
       "      <th>Longitud</th>\n",
       "    </tr>\n",
       "  </thead>\n",
       "  <tbody>\n",
       "    <tr>\n",
       "      <th>0</th>\n",
       "      <td>1</td>\n",
       "      <td>Cabildo</td>\n",
       "      <td>Av. Cabildo 1342</td>\n",
       "      <td>Ciudad de Buenos Aires</td>\n",
       "      <td>Ciudad de Buenos Aires</td>\n",
       "      <td>-34,5678060</td>\n",
       "      <td>-58,4495720</td>\n",
       "    </tr>\n",
       "    <tr>\n",
       "      <th>1</th>\n",
       "      <td>2</td>\n",
       "      <td>Palermo 1</td>\n",
       "      <td>Guatemala 5701</td>\n",
       "      <td>CABA</td>\n",
       "      <td>CABA</td>\n",
       "      <td>-34,5790350</td>\n",
       "      <td>-58,4335660</td>\n",
       "    </tr>\n",
       "    <tr>\n",
       "      <th>2</th>\n",
       "      <td>3</td>\n",
       "      <td>Palermo 2</td>\n",
       "      <td>Gral. Lucio Norberto Mansilla 2668</td>\n",
       "      <td>CABA</td>\n",
       "      <td>C deBuenos Aires</td>\n",
       "      <td>-34,5959660</td>\n",
       "      <td>-58,4051500</td>\n",
       "    </tr>\n",
       "    <tr>\n",
       "      <th>3</th>\n",
       "      <td>4</td>\n",
       "      <td>Corrientes</td>\n",
       "      <td>Av. Corrientes 2352</td>\n",
       "      <td>Ciudad de Buenos Aires</td>\n",
       "      <td>Bs As</td>\n",
       "      <td>-34,6046850</td>\n",
       "      <td>-58,3987640</td>\n",
       "    </tr>\n",
       "    <tr>\n",
       "      <th>4</th>\n",
       "      <td>5</td>\n",
       "      <td>Almagro</td>\n",
       "      <td>Venezuela 3650</td>\n",
       "      <td>Capital</td>\n",
       "      <td>Bs.As.</td>\n",
       "      <td>-34,6173080</td>\n",
       "      <td>-58,4161790</td>\n",
       "    </tr>\n",
       "  </tbody>\n",
       "</table>\n",
       "</div>"
      ],
      "text/plain": [
       "   ï»¿ID    Sucursal                           Direccion  \\\n",
       "0      1     Cabildo                    Av. Cabildo 1342   \n",
       "1      2   Palermo 1                      Guatemala 5701   \n",
       "2      3   Palermo 2  Gral. Lucio Norberto Mansilla 2668   \n",
       "3      4  Corrientes                 Av. Corrientes 2352   \n",
       "4      5     Almagro                      Venezuela 3650   \n",
       "\n",
       "                Localidad               Provincia      Latitud     Longitud  \n",
       "0  Ciudad de Buenos Aires  Ciudad de Buenos Aires  -34,5678060  -58,4495720  \n",
       "1                    CABA                    CABA  -34,5790350  -58,4335660  \n",
       "2                    CABA        C deBuenos Aires  -34,5959660  -58,4051500  \n",
       "3  Ciudad de Buenos Aires                   Bs As  -34,6046850  -58,3987640  \n",
       "4                 Capital                 Bs.As.   -34,6173080  -58,4161790  "
      ]
     },
     "execution_count": 4,
     "metadata": {},
     "output_type": "execute_result"
    }
   ],
   "source": [
    "#Observemos que en solo 5 registros observamos que no existe normalización en Localidad y Provincia.\n",
    "df_sucursales.head()"
   ]
  },
  {
   "cell_type": "markdown",
   "metadata": {},
   "source": [
    "## Evaluación de Calidad de Datos"
   ]
  },
  {
   "cell_type": "markdown",
   "metadata": {},
   "source": [
    "El dataset **Clientes.csv** posee una columna completa con valores nulos.Procedemos a eliminarla debido a que no aporta ningún tipo de valor y entorpece el análisis."
   ]
  },
  {
   "cell_type": "code",
   "execution_count": 5,
   "metadata": {},
   "outputs": [],
   "source": [
    "df_clientes.drop(columns='col10', inplace=True)"
   ]
  },
  {
   "cell_type": "markdown",
   "metadata": {},
   "source": [
    "Obtenemos un análisis de los registros y datos de todos los datasets."
   ]
  },
  {
   "cell_type": "code",
   "execution_count": 6,
   "metadata": {},
   "outputs": [],
   "source": [
    "dataFrames = [df_clientes, df_compras, df_gastos, df_localidades, df_proveedores, df_sucursales, df_ventas]\n",
    "names = ['df_clientes', 'df_compras', 'df_gastos', 'df_localidades', 'df_proveedores', 'df_sucursales', 'df_ventas']"
   ]
  },
  {
   "cell_type": "code",
   "execution_count": 7,
   "metadata": {},
   "outputs": [],
   "source": [
    "total_datos = []\n",
    "sin_null = []\n",
    "con_null = []\n",
    "total_registros = []\n",
    "total_registros_null = []\n",
    "\n",
    "for i, df in enumerate(dataFrames):\n",
    "    #Datos null inclusive\n",
    "    total_datos.append( df.shape[0] * df.shape[1] )\n",
    "    #Datos sin null\n",
    "    sin_null.append(df.count().sum())\n",
    "    #Cantidad de Registros\n",
    "    total_registros.append( len(df) )\n",
    "    #Datos null\n",
    "    null_columnas = df.isna().sum()\n",
    "    con_null.append( null_columnas.sum() )\n",
    "    #Obtenemos la cantidad de registros que poseen al menos un dato nulo\n",
    "    is_null = df.isnull()\n",
    "    row_has_null = is_null.any(axis=1)\n",
    "    total_registros_null.append( len(df[row_has_null]) )"
   ]
  },
  {
   "cell_type": "code",
   "execution_count": 8,
   "metadata": {},
   "outputs": [],
   "source": [
    "data = pd.DataFrame({\n",
    "'Dataset': names,\n",
    "'Datos Total': total_datos, \n",
    "'Datos sin null': sin_null, \n",
    "'Datos Nulos': con_null, \n",
    "'Cantidad Registros': total_registros, \n",
    "'Cant de Registros con Null': total_registros_null\n",
    "})"
   ]
  },
  {
   "cell_type": "code",
   "execution_count": 9,
   "metadata": {},
   "outputs": [
    {
     "data": {
      "text/html": [
       "<div>\n",
       "<style scoped>\n",
       "    .dataframe tbody tr th:only-of-type {\n",
       "        vertical-align: middle;\n",
       "    }\n",
       "\n",
       "    .dataframe tbody tr th {\n",
       "        vertical-align: top;\n",
       "    }\n",
       "\n",
       "    .dataframe thead th {\n",
       "        text-align: right;\n",
       "    }\n",
       "</style>\n",
       "<table border=\"1\" class=\"dataframe\">\n",
       "  <thead>\n",
       "    <tr style=\"text-align: right;\">\n",
       "      <th></th>\n",
       "      <th>Dataset</th>\n",
       "      <th>Datos Total</th>\n",
       "      <th>Datos sin null</th>\n",
       "      <th>Datos Nulos</th>\n",
       "      <th>Cantidad Registros</th>\n",
       "      <th>Cant de Registros con Null</th>\n",
       "    </tr>\n",
       "  </thead>\n",
       "  <tbody>\n",
       "    <tr>\n",
       "      <th>0</th>\n",
       "      <td>df_clientes</td>\n",
       "      <td>21456</td>\n",
       "      <td>21313</td>\n",
       "      <td>143</td>\n",
       "      <td>2384</td>\n",
       "      <td>112</td>\n",
       "    </tr>\n",
       "    <tr>\n",
       "      <th>1</th>\n",
       "      <td>df_compras</td>\n",
       "      <td>103851</td>\n",
       "      <td>103484</td>\n",
       "      <td>367</td>\n",
       "      <td>11539</td>\n",
       "      <td>367</td>\n",
       "    </tr>\n",
       "    <tr>\n",
       "      <th>2</th>\n",
       "      <td>df_gastos</td>\n",
       "      <td>43200</td>\n",
       "      <td>43200</td>\n",
       "      <td>0</td>\n",
       "      <td>8640</td>\n",
       "      <td>0</td>\n",
       "    </tr>\n",
       "    <tr>\n",
       "      <th>3</th>\n",
       "      <td>df_localidades</td>\n",
       "      <td>57988</td>\n",
       "      <td>56949</td>\n",
       "      <td>1039</td>\n",
       "      <td>4142</td>\n",
       "      <td>543</td>\n",
       "    </tr>\n",
       "    <tr>\n",
       "      <th>4</th>\n",
       "      <td>df_proveedores</td>\n",
       "      <td>98</td>\n",
       "      <td>96</td>\n",
       "      <td>2</td>\n",
       "      <td>14</td>\n",
       "      <td>2</td>\n",
       "    </tr>\n",
       "    <tr>\n",
       "      <th>5</th>\n",
       "      <td>df_sucursales</td>\n",
       "      <td>217</td>\n",
       "      <td>217</td>\n",
       "      <td>0</td>\n",
       "      <td>31</td>\n",
       "      <td>0</td>\n",
       "    </tr>\n",
       "    <tr>\n",
       "      <th>6</th>\n",
       "      <td>df_ventas</td>\n",
       "      <td>461800</td>\n",
       "      <td>459996</td>\n",
       "      <td>1804</td>\n",
       "      <td>46180</td>\n",
       "      <td>1788</td>\n",
       "    </tr>\n",
       "  </tbody>\n",
       "</table>\n",
       "</div>"
      ],
      "text/plain": [
       "          Dataset  Datos Total  Datos sin null  Datos Nulos  \\\n",
       "0     df_clientes        21456           21313          143   \n",
       "1      df_compras       103851          103484          367   \n",
       "2       df_gastos        43200           43200            0   \n",
       "3  df_localidades        57988           56949         1039   \n",
       "4  df_proveedores           98              96            2   \n",
       "5   df_sucursales          217             217            0   \n",
       "6       df_ventas       461800          459996         1804   \n",
       "\n",
       "   Cantidad Registros  Cant de Registros con Null  \n",
       "0                2384                         112  \n",
       "1               11539                         367  \n",
       "2                8640                           0  \n",
       "3                4142                         543  \n",
       "4                  14                           2  \n",
       "5                  31                           0  \n",
       "6               46180                        1788  "
      ]
     },
     "execution_count": 9,
     "metadata": {},
     "output_type": "execute_result"
    }
   ],
   "source": [
    "data"
   ]
  },
  {
   "cell_type": "markdown",
   "metadata": {},
   "source": [
    "Guardamos el resultado en un archivo para su futura consulta."
   ]
  },
  {
   "cell_type": "code",
   "execution_count": 10,
   "metadata": {},
   "outputs": [],
   "source": [
    "data.to_csv('analisis.csv', index=False)"
   ]
  },
  {
   "cell_type": "markdown",
   "metadata": {},
   "source": [
    "# Reporte Gráfico de Datos"
   ]
  },
  {
   "cell_type": "code",
   "execution_count": 10,
   "metadata": {},
   "outputs": [],
   "source": [
    "datasets = [df_clientes, df_compras, df_gastos, df_localidades, df_proveedores, df_sucursales, df_ventas]\n",
    "names = ['df_clientes', 'df_compras', 'df_gastos', 'df_localidades', 'df_proveedores', 'df_sucursales', 'df_ventas']"
   ]
  },
  {
   "cell_type": "markdown",
   "metadata": {},
   "source": [
    "Creamos una columna auxiliar a fin de detectar nulos dentro de los registros."
   ]
  },
  {
   "cell_type": "code",
   "execution_count": 11,
   "metadata": {},
   "outputs": [],
   "source": [
    "diccionario = {False: 0, True: 1}\n",
    "\n",
    "for df in datasets:\n",
    "    tiene_null = df.isna().any(axis=1)\n",
    "    df['es_null'] = tiene_null\n",
    "    df['es_null'] = df.es_null.map(diccionario)"
   ]
  },
  {
   "cell_type": "markdown",
   "metadata": {},
   "source": [
    "Podemos notar que la cantidad de registros con datos faltantes es relativamente baja con respecto a la cantidad de datos total dentro de los datasets."
   ]
  },
  {
   "cell_type": "code",
   "execution_count": null,
   "metadata": {},
   "outputs": [],
   "source": [
    "for i, df in enumerate(datasets):\n",
    "    tiene_null = df.isna().sum().sum()\n",
    "    if tiene_null > 0:\n",
    "        print(names[i])\n",
    "        sns.countplot(x=\"es_null\", data=df)\n",
    "        plt.title('Datos Completos vs Datos Nulos')\n",
    "        plt.xlabel('Contiene algún campo vacío')\n",
    "        plt.ylabel('Cantidad Registros')\n",
    "        plt.legend()\n",
    "        plt.show()"
   ]
  },
  {
   "cell_type": "markdown",
   "metadata": {},
   "source": [
    "## Detección de Outliers\n",
    "Usaremos la **Regla de las Tres Sigmas** <br>\n",
    "- mínimo = Promedio – 3 * Desviación Estándar\n",
    "- máximo = Promedio + 3 * Desviación Estándar"
   ]
  },
  {
   "cell_type": "markdown",
   "metadata": {},
   "source": [
    "#### Compras <br>\n",
    "Una compra no debería tener cantidades ni precios negativos. Por otro lado, evaluaremos cúanto es un precio \"normal\" de compra para determinar el máximo."
   ]
  },
  {
   "cell_type": "code",
   "execution_count": 13,
   "metadata": {},
   "outputs": [],
   "source": [
    "promedio = df_compras['Precio'].mean()\n",
    "std_dev = df_compras['Precio'].std()\n",
    "minimo = 0\n",
    "maximo = promedio + 3 * std_dev"
   ]
  },
  {
   "cell_type": "markdown",
   "metadata": {},
   "source": [
    "Observamos que los outliers en el dataset de Compras se generan en el `precio`."
   ]
  },
  {
   "cell_type": "code",
   "execution_count": null,
   "metadata": {},
   "outputs": [],
   "source": [
    "df_compras[(df_compras['Precio']<minimo) | (df_compras['Precio']>maximo)]"
   ]
  },
  {
   "cell_type": "code",
   "execution_count": 15,
   "metadata": {},
   "outputs": [],
   "source": [
    "mascara_outlier = ((df_compras['Precio']<minimo) | (df_compras['Cantidad']<0) | (df_compras['Precio']>maximo))\n",
    "df_compras['Outlier'] = mascara_outlier"
   ]
  },
  {
   "cell_type": "markdown",
   "metadata": {},
   "source": [
    "#### Gastos"
   ]
  },
  {
   "cell_type": "code",
   "execution_count": 16,
   "metadata": {},
   "outputs": [],
   "source": [
    "promedio = df_gastos['Monto'].mean()\n",
    "std_dev = df_gastos['Monto'].std()\n",
    "minimo = 0\n",
    "maximo = promedio + 3 * std_dev"
   ]
  },
  {
   "cell_type": "markdown",
   "metadata": {},
   "source": [
    "No posee Outliers a simple vista."
   ]
  },
  {
   "cell_type": "code",
   "execution_count": 17,
   "metadata": {},
   "outputs": [
    {
     "data": {
      "text/html": [
       "<div>\n",
       "<style scoped>\n",
       "    .dataframe tbody tr th:only-of-type {\n",
       "        vertical-align: middle;\n",
       "    }\n",
       "\n",
       "    .dataframe tbody tr th {\n",
       "        vertical-align: top;\n",
       "    }\n",
       "\n",
       "    .dataframe thead th {\n",
       "        text-align: right;\n",
       "    }\n",
       "</style>\n",
       "<table border=\"1\" class=\"dataframe\">\n",
       "  <thead>\n",
       "    <tr style=\"text-align: right;\">\n",
       "      <th></th>\n",
       "      <th>IdGasto</th>\n",
       "      <th>IdSucursal</th>\n",
       "      <th>IdTipoGasto</th>\n",
       "      <th>Fecha</th>\n",
       "      <th>Monto</th>\n",
       "      <th>es_null</th>\n",
       "    </tr>\n",
       "  </thead>\n",
       "  <tbody>\n",
       "  </tbody>\n",
       "</table>\n",
       "</div>"
      ],
      "text/plain": [
       "Empty DataFrame\n",
       "Columns: [IdGasto, IdSucursal, IdTipoGasto, Fecha, Monto, es_null]\n",
       "Index: []"
      ]
     },
     "execution_count": 17,
     "metadata": {},
     "output_type": "execute_result"
    }
   ],
   "source": [
    "df_gastos[(df_gastos['Monto']<minimo) | (df_gastos['Monto']>maximo)]"
   ]
  },
  {
   "cell_type": "code",
   "execution_count": 18,
   "metadata": {},
   "outputs": [],
   "source": [
    "mascara_outlier = (df_gastos['Monto']<minimo) | (df_gastos['Monto']>maximo)\n",
    "df_gastos['Outlier'] = mascara_outlier"
   ]
  },
  {
   "cell_type": "markdown",
   "metadata": {},
   "source": [
    "#### Ventas"
   ]
  },
  {
   "cell_type": "code",
   "execution_count": 19,
   "metadata": {},
   "outputs": [],
   "source": [
    "#Precio\n",
    "promedio = df_ventas['Precio'].mean()\n",
    "std_dev = df_ventas['Precio'].std()\n",
    "minimo = 0\n",
    "maximo = promedio + 3 * std_dev"
   ]
  },
  {
   "cell_type": "code",
   "execution_count": 20,
   "metadata": {},
   "outputs": [],
   "source": [
    "mascara_outlier = ((df_ventas['Precio']<minimo) | (df_ventas['Precio']>maximo))\n",
    "df_ventas['Outlier'] = mascara_outlier"
   ]
  },
  {
   "cell_type": "markdown",
   "metadata": {},
   "source": [
    "## Representación de Outliers"
   ]
  },
  {
   "cell_type": "code",
   "execution_count": 21,
   "metadata": {},
   "outputs": [
    {
     "name": "stdout",
     "output_type": "stream",
     "text": [
      "df_compras\n"
     ]
    },
    {
     "data": {
      "image/png": "[encoded data removed]",
      "text/plain": [
       "<Figure size 432x288 with 1 Axes>"
      ]
     },
     "metadata": {
      "needs_background": "light"
     },
     "output_type": "display_data"
    },
    {
     "name": "stdout",
     "output_type": "stream",
     "text": [
      "df_ventas\n"
     ]
    },
    {
     "data": {
      "image/png": "[encoded data removed]",
      "text/plain": [
       "<Figure size 432x288 with 1 Axes>"
      ]
     },
     "metadata": {
      "needs_background": "light"
     },
     "output_type": "display_data"
    }
   ],
   "source": [
    "for i, df in enumerate(datasets):\n",
    "    columns = list(df.columns)\n",
    "    if 'Outlier' in columns:\n",
    "        if df.Outlier.any():\n",
    "            print(names[i])\n",
    "            sns.scatterplot(x=df[columns[0]], y='Precio',hue='Outlier', data=df)\n",
    "            plt.show()"
   ]
  }
 ],
 "metadata": {
  "kernelspec": {
   "display_name": "Python 3.10.5 64-bit (windows store)",
   "language": "python",
   "name": "python3"
  },
  "language_info": {
   "codemirror_mode": {
    "name": "ipython",
    "version": 3
   },
   "file_extension": ".py",
   "mimetype": "text/x-python",
   "name": "python",
   "nbconvert_exporter": "python",
   "pygments_lexer": "ipython3",
   "version": "3.10.5"
  },
  "orig_nbformat": 4,
  "vscode": {
   "interpreter": {
    "hash": "1ef47f4165116b14d53321dc99b29d4e9c72347c275033ccf951af3c7befa3a1"
   }
  }
 },
 "nbformat": 4,
 "nbformat_minor": 2
}
