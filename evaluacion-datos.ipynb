{
 "cells": [
  {
   "cell_type": "code",
   "execution_count": 1,
   "metadata": {},
   "outputs": [],
   "source": [
    "import pandas as pd\n",
    "import numpy as np\n",
    "import matplotlib.pyplot as plt\n",
    "import seaborn as sns"
   ]
  },
  {
   "cell_type": "markdown",
   "metadata": {},
   "source": [
    "Antes de levantar los archivos, debemos cambiar su atributo `encoding` a `utf-8`"
   ]
  },
  {
   "cell_type": "code",
   "execution_count": 43,
   "metadata": {},
   "outputs": [],
   "source": [
    "#Levantamos los datasets (archivos .csv)\n",
    "df_clientes     =pd.read_csv('./Datasets/Clientes.csv'   , encoding='latin-1', sep=';', index_col='ID')\n",
    "df_compras      =pd.read_csv('./Datasets/Compra.csv'     , encoding='latin-1', sep=',', index_col='IdCompra')\n",
    "df_gastos       =pd.read_csv('./Datasets/Gasto.csv'      , encoding='latin-1', sep=',', index_col='IdGasto')\n",
    "df_localidades  =pd.read_csv('./Datasets/Localidades.csv', encoding='latin-1', sep=',')\n",
    "df_proveedores  =pd.read_csv('./Datasets/Proveedores.csv', encoding='latin-1', sep=',', index_col='IDProveedor')\n",
    "df_sucursales   =pd.read_csv('./Datasets/Sucursales.csv' , encoding='latin-1', sep=';', index_col='ID')\n",
    "df_ventas       =pd.read_csv('./Datasets/Venta.csv'      , encoding='latin-1', sep=',', index_col='IdVenta')"
   ]
  }
 ],
 "metadata": {
  "kernelspec": {
   "display_name": "Python 3.10.5 64-bit (windows store)",
   "language": "python",
   "name": "python3"
  },
  "language_info": {
   "codemirror_mode": {
    "name": "ipython",
    "version": 3
   },
   "file_extension": ".py",
   "mimetype": "text/x-python",
   "name": "python",
   "nbconvert_exporter": "python",
   "pygments_lexer": "ipython3",
   "version": "3.10.5"
  },
  "orig_nbformat": 4,
  "vscode": {
   "interpreter": {
    "hash": "1ef47f4165116b14d53321dc99b29d4e9c72347c275033ccf951af3c7befa3a1"
   }
  }
 },
 "nbformat": 4,
 "nbformat_minor": 2
}
